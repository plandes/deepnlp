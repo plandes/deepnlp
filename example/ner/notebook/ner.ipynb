{
 "cells": [
  {
   "cell_type": "markdown",
   "metadata": {},
   "source": [
    "# Deep learning framework example: Named Entity Recognition\n",
    "\n",
    "This notebook demonstrates how to use the deeplearning API to train and test the model on the [CoNNL 2003 dataset](https://www.clips.uantwerpen.be/conll2003/ner/).  The task is to identify named entities (i.e. people, organizations etc).\n",
    "\n",
    "**Important**: Please see the Movie Review notebook example in the `zensols.movie` API first, as it contains more explaination of how the framework is used.  The purpose of this notebook is to run the MNIST dataset and visualize the results."
   ]
  },
  {
   "cell_type": "code",
   "execution_count": null,
   "metadata": {},
   "outputs": [],
   "source": [
    "# set up notebook environment\n",
    "import sys\n",
    "app_root_dir = '..'\n",
    "sys.path.append(app_root_dir + '/src')\n",
    "sys.path.append('../../../src/python')"
   ]
  },
  {
   "cell_type": "markdown",
   "metadata": {},
   "source": [
    "## Configure and create the app specific facade\n",
    "\n",
    "Now that the interpreter environment is set up, we can import local packages."
   ]
  },
  {
   "cell_type": "code",
   "execution_count": null,
   "metadata": {},
   "outputs": [],
   "source": [
    "import logging\n",
    "from zensols.config import ImportConfigFactory\n",
    "from zensols.deeplearn import TorchConfig\n",
    "from ner import AppConfig, NERModelFacade\n",
    "\n",
    "# set the random seed so things are predictable\n",
    "TorchConfig.set_random_seed()\n",
    "\n",
    "# configure the environment\n",
    "env = {'app_root': app_root_dir,\n",
    "       'gpu_primary_index': 0}\n",
    "config = AppConfig(config_file=app_root_dir + '/resources/conf', env=env)\n",
    "\n",
    "def create_facade():\n",
    "    \"\"\"Create and return a facade with columns that fit a notebook.\n",
    " \n",
    "    \"\"\"\n",
    "    # create a factoty that instantiates Python objects using a simple configuration (INI)\n",
    "    facade = NERModelFacade(config)\n",
    "    # set console based logging\n",
    "    facade.configure_jupyter(logging.WARNING)\n",
    "    return facade"
   ]
  },
  {
   "cell_type": "markdown",
   "metadata": {},
   "source": [
    "## Print information about \n",
    "\n",
    "Use the factory to create the model executor.  The `write` method gives statistics on the data set that is configured on the executor."
   ]
  },
  {
   "cell_type": "code",
   "execution_count": null,
   "metadata": {
    "scrolled": false
   },
   "outputs": [],
   "source": [
    "from zensols.config import Writable\n",
    "# set indention level for human readable (pretty print like) output\n",
    "Writable.WRITABLE_INDENT_SPACE = 2\n",
    "facade = create_facade()\n",
    "facade.write()"
   ]
  },
  {
   "cell_type": "markdown",
   "metadata": {},
   "source": [
    "## Train and test the model\n",
    "\n",
    "Train and test the model with the default (low) number of epochs to make sure everything is working."
   ]
  },
  {
   "cell_type": "code",
   "execution_count": null,
   "metadata": {},
   "outputs": [],
   "source": [
    "facade.epochs = 2\n",
    "facade.train()\n",
    "facade.test()\n",
    "facade.write_result()\n",
    "facade.plot_result()\n",
    "facade.persist_result()"
   ]
  },
  {
   "cell_type": "markdown",
   "metadata": {},
   "source": [
    "## Tune hyperparameters\n",
    "\n",
    "Set model parameters to get a feel for where they need to be before changing features."
   ]
  },
  {
   "cell_type": "code",
   "execution_count": null,
   "metadata": {},
   "outputs": [],
   "source": [
    "facade.learning_rate = 0.01\n",
    "facade.epochs = 20\n",
    "facade.train()\n",
    "facade.test()\n",
    "facade.write_result()\n",
    "facade.plot_result()"
   ]
  },
  {
   "cell_type": "code",
   "execution_count": null,
   "metadata": {},
   "outputs": [],
   "source": [
    "facade.learning_rate = 0.01\n",
    "facade.epochs = 25\n",
    "facade.embedding = 'glove_300_embedding'\n",
    "facade.train()\n",
    "facade.test()\n",
    "facade.write_result()\n",
    "facade.plot_result()"
   ]
  },
  {
   "cell_type": "code",
   "execution_count": null,
   "metadata": {},
   "outputs": [],
   "source": [
    "facade.embedding = 'word2vec_300_embedding'\n",
    "facade.train()\n",
    "facade.test()\n",
    "facade.write_result()\n",
    "facade.plot_result()"
   ]
  },
  {
   "cell_type": "code",
   "execution_count": null,
   "metadata": {},
   "outputs": [],
   "source": [
    "facade.epochs = 60\n",
    "facade.embedding = 'bert_embedding'\n",
    "facade.net_settings.add_attributes = ()\n",
    "facade.train()\n",
    "facade.test()\n",
    "facade.write_result()\n",
    "facade.plot_result()"
   ]
  },
  {
   "cell_type": "code",
   "execution_count": null,
   "metadata": {},
   "outputs": [],
   "source": []
  }
 ],
 "metadata": {
  "kernelspec": {
   "display_name": "Python 3",
   "language": "python",
   "name": "python3"
  },
  "language_info": {
   "codemirror_mode": {
    "name": "ipython",
    "version": 3
   },
   "file_extension": ".py",
   "mimetype": "text/x-python",
   "name": "python",
   "nbconvert_exporter": "python",
   "pygments_lexer": "ipython3",
   "version": "3.9.2"
  }
 },
 "nbformat": 4,
 "nbformat_minor": 4
}
