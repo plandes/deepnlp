{
 "cells": [
  {
   "cell_type": "markdown",
   "metadata": {},
   "source": [
    "# Deep learning framework example: Named Entity Recognition\n",
    "\n",
    "This notebook demonstrates how to use the deeplearning API to train and test the model on the [CoNNL 2003 dataset](https://www.clips.uantwerpen.be/conll2003/ner/).  The task is to identify named entities (i.e. people, organizations etc).  See the [saved version](https://htmlpreview.github.io/?https://github.com/plandes/deepnlp/blob/master/example/ner/notebook/ner.html) for output.\n",
    "\n",
    "**Important**: Please see the Movie Review notebook example in the `zensols.movie` API first, as it contains more explaination of how the framework is used.  The purpose of this notebook is to run the MNIST dataset and visualize the results."
   ]
  },
  {
   "cell_type": "code",
   "execution_count": 1,
   "metadata": {},
   "outputs": [
    {
     "data": {
      "text/html": [
       "<style>.container { width:95% !important; }</style>"
      ],
      "text/plain": [
       "<IPython.core.display.HTML object>"
      ]
     },
     "metadata": {},
     "output_type": "display_data"
    }
   ],
   "source": [
    "from harness import NotebookHarness\n",
    "harness = NotebookHarness()\n",
    "mng = harness()\n",
    "#mng = harness(1, 'target2')"
   ]
  },
  {
   "cell_type": "markdown",
   "metadata": {},
   "source": [
    "## Print information about \n",
    "\n",
    "Use the factory to create the model executor.  The `write` method gives statistics on the data set that is configured on the executor."
   ]
  },
  {
   "cell_type": "code",
   "execution_count": 2,
   "metadata": {
    "scrolled": false
   },
   "outputs": [
    {
     "name": "stdout",
     "output_type": "stream",
     "text": [
      "executor:\n",
      "  model: NER: glove_50 \n",
      "  feature splits:\n",
      "    split stash splits:\n",
      "      test: 3453 (16.6%)\n",
      "      train: 14041 (67.7%)\n",
      "      dev: 3250 (15.7%)\n",
      "      total: 20744\n",
      "    total this instance: 20744\n",
      "    keys consistent: True\n",
      "    delegate:\n",
      "      key splits:\n",
      "        test: 3453 (16.6%)\n",
      "        train: 14041 (67.7%)\n",
      "        dev: 3250 (15.7%)\n",
      "      total: 20744\n",
      "  batch splits:\n",
      "    split stash splits:\n",
      "      test: 108 (16.6%)\n",
      "      train: 439 (67.6%)\n",
      "      dev: 102 (15.7%)\n",
      "      total: 649\n",
      "    total this instance: 649\n",
      "    keys consistent: True\n",
      "    delegate:\n",
      "      name: sent_batch_stash\n",
      "      chunk_size: 0\n",
      "      workers: 2\n",
      "      batch_size: 32\n",
      "      data_point_id_sets_path: ../data/batch/b32/keys.dat\n",
      "      batch_limit: 9223372036854775807\n",
      "      delegate_attr: True\n",
      "      _has_data: True\n",
      "      is_child: False\n",
      "      _decoded_attributes: {'tags', 'ents', 'glove_50_embedding', 'syns', 'mask'}\n",
      "      priming: False\n",
      "  network settings:\n",
      "    name: net_settings\n",
      "    recurrent_crf_settings:\n",
      "      name: recurrent_crf_settings\n",
      "      dropout: 0.1\n",
      "      network_type: lstm\n",
      "      bidirectional: True\n",
      "      hidden_size: 24\n",
      "      num_layers: 1\n",
      "      num_labels: 9\n",
      "      decoder_settings:\n",
      "        name: linear_settings\n",
      "        middle_features:\n",
      "        proportions: True\n",
      "        repeats: 1\n",
      "      score_reduction: sum\n",
      "    mask_attribute: mask\n",
      "    tensor_predictions: False\n",
      "  model settings:\n",
      "    name: model_settings\n",
      "    path: ../target/model/glove_50_embedding\n",
      "    learning_rate: 0.001\n",
      "    epochs: 70\n",
      "    max_consecutive_increased_count: 9223372036854775807\n",
      "    nominal_labels: True\n",
      "    scheduler_class_name: torch.optim.lr_scheduler.ReduceLROnPlateau\n",
      "    reduce_outcomes: none\n",
      "    shuffle_training: False\n",
      "    batch_limit: 9223372036854775807\n",
      "    batch_iteration: gpu\n",
      "    prediction_mapper_name: feature_prediction_mapper\n",
      "    cache_batches: True\n",
      "    gc_level: 0\n",
      "    batch_iteration_class_name: zensols.deeplearn.model.SequenceBatchIterator\n",
      "    criterion_class_name: torch.nn.CrossEntropyLoss\n",
      "    optimizer_class_name: torch.optim.Adam\n",
      "  model:\n",
      "    EmbeddedRecurrentCRF(\n",
      "      (embedding): WordVectorEmbeddingLayer(\n",
      "        (emb): Embedding(400001, 50)\n",
      "      )\n",
      "      (recurcrf): RecurrentCRF(\n",
      "        (dropout): Dropout(p=0.1, inplace=False)\n",
      "        (recur): RecurrentAggregation(\n",
      "          (dropout): Dropout(p=0.1, inplace=False)\n",
      "          (rnn): LSTM(116, 12, batch_first=True, bidirectional=True)\n",
      "        )\n",
      "        (decoder): DeepLinear(\n",
      "          (lin_layers): Sequential(\n",
      "            (0): Linear(in_features=24, out_features=9, bias=True)\n",
      "          )\n",
      "        )\n",
      "        (crf): CRF(num_tags=9)\n",
      "      )\n",
      "    )\n",
      "    metadata:\n",
      "  data point: <class 'ner.domain.NERDataPoint'>\n",
      "  batch: <class 'ner.domain.NERBatch'>\n",
      "  mapping:\n",
      "    label: ents\n",
      "      label_vectorizer_manager\n",
      "        FieldFeatureMapping(attr='ents', feature_id='entlabel', is_agg=True, attr_access=None, is_label=True)\n",
      "        FieldFeatureMapping(attr='mask', feature_id='mask', is_agg=True, attr_access='ents', is_label=False)\n",
      "      language_feature_manager\n",
      "        FieldFeatureMapping(attr='tags', feature_id='tag', is_agg=True, attr_access='doc', is_label=False)\n",
      "        FieldFeatureMapping(attr='syns', feature_id='syn', is_agg=True, attr_access='doc', is_label=False)\n",
      "        FieldFeatureMapping(attr='glove_50_embedding', feature_id='wvglove50', is_agg=True, attr_access='doc', is_label=False)\n",
      "        FieldFeatureMapping(attr='glove_300_embedding', feature_id='wvglove300', is_agg=True, attr_access='doc', is_label=False)\n",
      "        FieldFeatureMapping(attr='word2vec_300_embedding', feature_id='w2v300', is_agg=True, attr_access='doc', is_label=False)\n",
      "        FieldFeatureMapping(attr='transformer_trainable_embedding', feature_id='transformer_trainable', is_agg=True, attr_access='doc', is_label=False)\n",
      "        FieldFeatureMapping(attr='tags_expander', feature_id='transformer_tags_expander', is_agg=True, attr_access='doc', is_label=False)\n",
      "        FieldFeatureMapping(attr='syns_expander', feature_id='transformer_syns_expander', is_agg=True, attr_access='doc', is_label=False)\n",
      "        FieldFeatureMapping(attr='ents_trans', feature_id='entlabel_trans', is_agg=True, attr_access='trans_doc', is_label=True)\n",
      "  attributes:\n",
      "    ents\n",
      "      field:\n",
      "        FieldFeatureMapping(attr='ents', feature_id='entlabel', is_agg=True, attr_access=None, is_label=True)\n",
      "      vectorizer:\n",
      "        entlabel (aggregate vectorizer), shape: (-1, 1)\n",
      "    mask\n",
      "      field:\n",
      "        FieldFeatureMapping(attr='mask', feature_id='mask', is_agg=True, attr_access='ents', is_label=False)\n",
      "      vectorizer:\n",
      "        mask (mask), shape: (-1, -1)\n",
      "    tags\n",
      "      field:\n",
      "        FieldFeatureMapping(attr='tags', feature_id='tag', is_agg=True, attr_access='doc', is_label=False)\n",
      "      vectorizer:\n",
      "        tag (encoded feature document vectorizer), shape: (-1, -1, 45), feature type: TOKEN \n",
      "    syns\n",
      "      field:\n",
      "        FieldFeatureMapping(attr='syns', feature_id='syn', is_agg=True, attr_access='doc', is_label=False)\n",
      "      vectorizer:\n",
      "        syn (encoded feature document vectorizer), shape: (-1, -1, 21), feature type: TOKEN \n",
      "    glove_50_embedding\n",
      "      field:\n",
      "        FieldFeatureMapping(attr='glove_50_embedding', feature_id='wvglove50', is_agg=True, attr_access='doc', is_label=False)\n",
      "      vectorizer:\n",
      "        wvglove50 (word vector document embedding), shape: (-1, 50), feature type: EMBEDDING \n"
     ]
    }
   ],
   "source": [
    "from zensols.config import Writable\n",
    "# set indention level for human readable (pretty print) output\n",
    "Writable.WRITABLE_INDENT_SPACE = 2\n",
    "facade = mng.create_facade('glove50')\n",
    "facade.write()"
   ]
  },
  {
   "cell_type": "markdown",
   "metadata": {},
   "source": [
    "## Train and test the model\n",
    "\n",
    "Train and test the model with the default (low) number of epochs to make sure everything is working."
   ]
  },
  {
   "cell_type": "code",
   "execution_count": 3,
   "metadata": {},
   "outputs": [
    {
     "name": "stderr",
     "output_type": "stream",
     "text": [
      "tr:3707.118|va min:5444.474|va:3050.425|lr:0.001 \\/:  50%|█████     | 1/2 [00:39<00:20, 20.03s/it]/home/landes/opt/lib/python-3.9.9/lib/python3.9/site-packages/numpy/lib/function_base.py:380: RuntimeWarning: Mean of empty slice.\n",
      "  avg = a.mean(axis)\n",
      "/home/landes/opt/lib/python-3.9.9/lib/python3.9/site-packages/numpy/core/_methods.py:189: RuntimeWarning: invalid value encountered in double_scalars\n",
      "  ret = ret.dtype.type(ret / rcount)\n",
      "/home/landes/opt/lib/python-3.9.9/lib/python3.9/site-packages/sklearn/metrics/_classification.py:1570: UndefinedMetricWarning: F-score is ill-defined and being set to 0.0 due to no true nor predicted samples. Use `zero_division` parameter to control this behavior.\n",
      "  _warn_prf(average, \"true nor predicted\", \"F-score is\", len(true_sum))\n",
      "/home/landes/opt/lib/python-3.9.9/lib/python3.9/site-packages/sklearn/metrics/_classification.py:1308: UndefinedMetricWarning: Recall is ill-defined and being set to 0.0 due to no true samples. Use `zero_division` parameter to control this behavior.\n",
      "  _warn_prf(average, modifier, msg_start, len(result))\n",
      "/home/landes/opt/lib/python-3.9.9/lib/python3.9/site-packages/numpy/lib/function_base.py:380: RuntimeWarning: Mean of empty slice.\n",
      "  avg = a.mean(axis)\n",
      "/home/landes/opt/lib/python-3.9.9/lib/python3.9/site-packages/numpy/core/_methods.py:189: RuntimeWarning: invalid value encountered in double_scalars\n",
      "  ret = ret.dtype.type(ret / rcount)\n",
      "/home/landes/opt/lib/python-3.9.9/lib/python3.9/site-packages/numpy/lib/function_base.py:380: RuntimeWarning: Mean of empty slice.\n",
      "  avg = a.mean(axis)\n",
      "/home/landes/opt/lib/python-3.9.9/lib/python3.9/site-packages/numpy/core/_methods.py:189: RuntimeWarning: invalid value encountered in double_scalars\n",
      "  ret = ret.dtype.type(ret / rcount)\n",
      "/home/landes/opt/lib/python-3.9.9/lib/python3.9/site-packages/numpy/lib/function_base.py:380: RuntimeWarning: Mean of empty slice.\n",
      "  avg = a.mean(axis)\n",
      "/home/landes/opt/lib/python-3.9.9/lib/python3.9/site-packages/numpy/core/_methods.py:189: RuntimeWarning: invalid value encountered in double_scalars\n",
      "  ret = ret.dtype.type(ret / rcount)\n",
      "/home/landes/opt/lib/python-3.9.9/lib/python3.9/site-packages/numpy/lib/function_base.py:380: RuntimeWarning: Mean of empty slice.\n",
      "  avg = a.mean(axis)\n",
      "/home/landes/opt/lib/python-3.9.9/lib/python3.9/site-packages/numpy/core/_methods.py:189: RuntimeWarning: invalid value encountered in double_scalars\n",
      "  ret = ret.dtype.type(ret / rcount)\n",
      "/home/landes/opt/lib/python-3.9.9/lib/python3.9/site-packages/sklearn/metrics/_classification.py:1570: UndefinedMetricWarning: F-score is ill-defined and being set to 0.0 due to no true nor predicted samples. Use `zero_division` parameter to control this behavior.\n",
      "  _warn_prf(average, \"true nor predicted\", \"F-score is\", len(true_sum))\n",
      "/home/landes/opt/lib/python-3.9.9/lib/python3.9/site-packages/sklearn/metrics/_classification.py:1308: UndefinedMetricWarning: Recall is ill-defined and being set to 0.0 due to no true samples. Use `zero_division` parameter to control this behavior.\n",
      "  _warn_prf(average, modifier, msg_start, len(result))\n",
      "/home/landes/opt/lib/python-3.9.9/lib/python3.9/site-packages/numpy/lib/function_base.py:380: RuntimeWarning: Mean of empty slice.\n",
      "  avg = a.mean(axis)\n",
      "/home/landes/opt/lib/python-3.9.9/lib/python3.9/site-packages/numpy/core/_methods.py:189: RuntimeWarning: invalid value encountered in double_scalars\n",
      "  ret = ret.dtype.type(ret / rcount)\n",
      "/home/landes/opt/lib/python-3.9.9/lib/python3.9/site-packages/numpy/lib/function_base.py:380: RuntimeWarning: Mean of empty slice.\n",
      "  avg = a.mean(axis)\n",
      "/home/landes/opt/lib/python-3.9.9/lib/python3.9/site-packages/numpy/core/_methods.py:189: RuntimeWarning: invalid value encountered in double_scalars\n",
      "  ret = ret.dtype.type(ret / rcount)\n",
      "/home/landes/opt/lib/python-3.9.9/lib/python3.9/site-packages/numpy/lib/function_base.py:380: RuntimeWarning: Mean of empty slice.\n",
      "  avg = a.mean(axis)\n",
      "/home/landes/opt/lib/python-3.9.9/lib/python3.9/site-packages/numpy/core/_methods.py:189: RuntimeWarning: invalid value encountered in double_scalars\n",
      "  ret = ret.dtype.type(ret / rcount)\n",
      "tr:3707.118|va min:5444.474|va:3050.425|lr:0.001 \\/: 100%|██████████| 2/2 [00:39<00:00, 19.92s/it]\n"
     ]
    },
    {
     "name": "stdout",
     "output_type": "stream",
     "text": [
      "Name: NER: glove_50 : 1\n",
      "Run index: 2\n",
      "Learning rate: 0.001\n",
      "  train:\n",
      "    started: 11/28/2021 04:14:45:389479\n",
      "    ended: 11/28/2021 04:15:22:058194\n",
      "    batches: 439\n",
      "    ave data points per batch/total: 32.0/14041\n",
      "    min/ave/max loss: 1539.73608/3707.11770/7965.04328\n",
      "  validation:\n",
      "    started: 11/28/2021 04:15:02:328926\n",
      "    ended: 11/28/2021 04:15:24:688819\n",
      "    batches: 102\n",
      "    ave data points per batch/total: 503.5/51362\n",
      "    converged/epochs: 2/2\n",
      "    min/ave/max loss: 1345.47699/3050.42521/9157.01098\n",
      "    accuracy: 0.944 (48497/51362)\n",
      "    micro: F1: 0.944, precision: 0.944, recall: 0.944\n",
      "    macro: F1: 0.607, precision: 0.785, recall: 0.590\n",
      "    weighted: F1: 0.936, precision: 0.940, recall: 0.944\n",
      "  test:\n",
      "    started: 11/28/2021 04:15:26:430323\n",
      "    ended: 11/28/2021 04:15:27:810956\n",
      "    batches: 108\n",
      "    ave data points per batch/total: 430.0/46435\n",
      "    min/ave/max loss: 0.00000/0.00000/0.00000\n",
      "    accuracy: 0.940 (43654/46435)\n",
      "    micro: F1: 0.940, precision: 0.940, recall: 0.940\n",
      "    macro: F1: 0.622, precision: 0.793, recall: 0.608\n",
      "    weighted: F1: 0.935, precision: 0.939, recall: 0.940\n"
     ]
    },
    {
     "data": {
      "image/png": "[encoded data removed]",
      "text/plain": [
       "<Figure size 1080x360 with 1 Axes>"
      ]
     },
     "metadata": {
      "needs_background": "light"
     },
     "output_type": "display_data"
    }
   ],
   "source": [
    "facade.epochs = 2\n",
    "mng.run()"
   ]
  },
  {
   "cell_type": "markdown",
   "metadata": {},
   "source": [
    "## Tune hyperparameters\n",
    "\n",
    "Set model parameters to get a feel for where they need to be before changing features.  Start with Glove 50 dimensional word embeddings with a learning rate of 0.01 and 20 epochs."
   ]
  },
  {
   "cell_type": "code",
   "execution_count": null,
   "metadata": {},
   "outputs": [
    {
     "name": "stderr",
     "output_type": "stream",
     "text": [
      "tr:1138.549|va min:1514.247|va:1241.259|lr:0.01 \\/:  10%|█         | 1/10 [00:39<02:58, 19.79s/it]/home/landes/opt/lib/python-3.9.9/lib/python3.9/site-packages/numpy/lib/function_base.py:380: RuntimeWarning: Mean of empty slice.\n",
      "  avg = a.mean(axis)\n",
      "/home/landes/opt/lib/python-3.9.9/lib/python3.9/site-packages/numpy/core/_methods.py:189: RuntimeWarning: invalid value encountered in double_scalars\n",
      "  ret = ret.dtype.type(ret / rcount)\n",
      "/home/landes/opt/lib/python-3.9.9/lib/python3.9/site-packages/sklearn/metrics/_classification.py:1570: UndefinedMetricWarning: F-score is ill-defined and being set to 0.0 due to no true nor predicted samples. Use `zero_division` parameter to control this behavior.\n",
      "  _warn_prf(average, \"true nor predicted\", \"F-score is\", len(true_sum))\n",
      "/home/landes/opt/lib/python-3.9.9/lib/python3.9/site-packages/sklearn/metrics/_classification.py:1308: UndefinedMetricWarning: Recall is ill-defined and being set to 0.0 due to no true samples. Use `zero_division` parameter to control this behavior.\n",
      "  _warn_prf(average, modifier, msg_start, len(result))\n",
      "/home/landes/opt/lib/python-3.9.9/lib/python3.9/site-packages/numpy/lib/function_base.py:380: RuntimeWarning: Mean of empty slice.\n",
      "  avg = a.mean(axis)\n",
      "/home/landes/opt/lib/python-3.9.9/lib/python3.9/site-packages/numpy/core/_methods.py:189: RuntimeWarning: invalid value encountered in double_scalars\n",
      "  ret = ret.dtype.type(ret / rcount)\n",
      "/home/landes/opt/lib/python-3.9.9/lib/python3.9/site-packages/numpy/lib/function_base.py:380: RuntimeWarning: Mean of empty slice.\n",
      "  avg = a.mean(axis)\n",
      "/home/landes/opt/lib/python-3.9.9/lib/python3.9/site-packages/numpy/core/_methods.py:189: RuntimeWarning: invalid value encountered in double_scalars\n",
      "  ret = ret.dtype.type(ret / rcount)\n",
      "/home/landes/opt/lib/python-3.9.9/lib/python3.9/site-packages/numpy/lib/function_base.py:380: RuntimeWarning: Mean of empty slice.\n",
      "  avg = a.mean(axis)\n",
      "/home/landes/opt/lib/python-3.9.9/lib/python3.9/site-packages/numpy/core/_methods.py:189: RuntimeWarning: invalid value encountered in double_scalars\n",
      "  ret = ret.dtype.type(ret / rcount)\n",
      "/home/landes/opt/lib/python-3.9.9/lib/python3.9/site-packages/numpy/lib/function_base.py:380: RuntimeWarning: Mean of empty slice.\n",
      "  avg = a.mean(axis)\n",
      "/home/landes/opt/lib/python-3.9.9/lib/python3.9/site-packages/numpy/core/_methods.py:189: RuntimeWarning: invalid value encountered in double_scalars\n",
      "  ret = ret.dtype.type(ret / rcount)\n",
      "/home/landes/opt/lib/python-3.9.9/lib/python3.9/site-packages/sklearn/metrics/_classification.py:1570: UndefinedMetricWarning: F-score is ill-defined and being set to 0.0 due to no true nor predicted samples. Use `zero_division` parameter to control this behavior.\n",
      "  _warn_prf(average, \"true nor predicted\", \"F-score is\", len(true_sum))\n",
      "/home/landes/opt/lib/python-3.9.9/lib/python3.9/site-packages/sklearn/metrics/_classification.py:1308: UndefinedMetricWarning: Recall is ill-defined and being set to 0.0 due to no true samples. Use `zero_division` parameter to control this behavior.\n",
      "  _warn_prf(average, modifier, msg_start, len(result))\n",
      "/home/landes/opt/lib/python-3.9.9/lib/python3.9/site-packages/numpy/lib/function_base.py:380: RuntimeWarning: Mean of empty slice.\n",
      "  avg = a.mean(axis)\n",
      "/home/landes/opt/lib/python-3.9.9/lib/python3.9/site-packages/numpy/core/_methods.py:189: RuntimeWarning: invalid value encountered in double_scalars\n",
      "  ret = ret.dtype.type(ret / rcount)\n",
      "/home/landes/opt/lib/python-3.9.9/lib/python3.9/site-packages/numpy/lib/function_base.py:380: RuntimeWarning: Mean of empty slice.\n",
      "  avg = a.mean(axis)\n",
      "/home/landes/opt/lib/python-3.9.9/lib/python3.9/site-packages/numpy/core/_methods.py:189: RuntimeWarning: invalid value encountered in double_scalars\n",
      "  ret = ret.dtype.type(ret / rcount)\n",
      "/home/landes/opt/lib/python-3.9.9/lib/python3.9/site-packages/numpy/lib/function_base.py:380: RuntimeWarning: Mean of empty slice.\n",
      "  avg = a.mean(axis)\n",
      "/home/landes/opt/lib/python-3.9.9/lib/python3.9/site-packages/numpy/core/_methods.py:189: RuntimeWarning: invalid value encountered in double_scalars\n",
      "  ret = ret.dtype.type(ret / rcount)\n",
      "tr:903.874|va min:1241.259|va:1111.123|lr:0.01 \\/:  20%|██        | 2/10 [00:58<02:38, 19.78s/it] /home/landes/opt/lib/python-3.9.9/lib/python3.9/site-packages/numpy/lib/function_base.py:380: RuntimeWarning: Mean of empty slice.\n",
      "  avg = a.mean(axis)\n",
      "/home/landes/opt/lib/python-3.9.9/lib/python3.9/site-packages/numpy/core/_methods.py:189: RuntimeWarning: invalid value encountered in double_scalars\n",
      "  ret = ret.dtype.type(ret / rcount)\n",
      "/home/landes/opt/lib/python-3.9.9/lib/python3.9/site-packages/sklearn/metrics/_classification.py:1570: UndefinedMetricWarning: F-score is ill-defined and being set to 0.0 due to no true nor predicted samples. Use `zero_division` parameter to control this behavior.\n",
      "  _warn_prf(average, \"true nor predicted\", \"F-score is\", len(true_sum))\n",
      "/home/landes/opt/lib/python-3.9.9/lib/python3.9/site-packages/sklearn/metrics/_classification.py:1308: UndefinedMetricWarning: Recall is ill-defined and being set to 0.0 due to no true samples. Use `zero_division` parameter to control this behavior.\n",
      "  _warn_prf(average, modifier, msg_start, len(result))\n",
      "/home/landes/opt/lib/python-3.9.9/lib/python3.9/site-packages/numpy/lib/function_base.py:380: RuntimeWarning: Mean of empty slice.\n",
      "  avg = a.mean(axis)\n",
      "/home/landes/opt/lib/python-3.9.9/lib/python3.9/site-packages/numpy/core/_methods.py:189: RuntimeWarning: invalid value encountered in double_scalars\n",
      "  ret = ret.dtype.type(ret / rcount)\n",
      "/home/landes/opt/lib/python-3.9.9/lib/python3.9/site-packages/numpy/lib/function_base.py:380: RuntimeWarning: Mean of empty slice.\n",
      "  avg = a.mean(axis)\n",
      "/home/landes/opt/lib/python-3.9.9/lib/python3.9/site-packages/numpy/core/_methods.py:189: RuntimeWarning: invalid value encountered in double_scalars\n",
      "  ret = ret.dtype.type(ret / rcount)\n",
      "/home/landes/opt/lib/python-3.9.9/lib/python3.9/site-packages/numpy/lib/function_base.py:380: RuntimeWarning: Mean of empty slice.\n",
      "  avg = a.mean(axis)\n",
      "/home/landes/opt/lib/python-3.9.9/lib/python3.9/site-packages/numpy/core/_methods.py:189: RuntimeWarning: invalid value encountered in double_scalars\n",
      "  ret = ret.dtype.type(ret / rcount)\n",
      "/home/landes/opt/lib/python-3.9.9/lib/python3.9/site-packages/numpy/lib/function_base.py:380: RuntimeWarning: Mean of empty slice.\n",
      "  avg = a.mean(axis)\n",
      "/home/landes/opt/lib/python-3.9.9/lib/python3.9/site-packages/numpy/core/_methods.py:189: RuntimeWarning: invalid value encountered in double_scalars\n",
      "  ret = ret.dtype.type(ret / rcount)\n",
      "/home/landes/opt/lib/python-3.9.9/lib/python3.9/site-packages/sklearn/metrics/_classification.py:1570: UndefinedMetricWarning: F-score is ill-defined and being set to 0.0 due to no true nor predicted samples. Use `zero_division` parameter to control this behavior.\n",
      "  _warn_prf(average, \"true nor predicted\", \"F-score is\", len(true_sum))\n",
      "/home/landes/opt/lib/python-3.9.9/lib/python3.9/site-packages/sklearn/metrics/_classification.py:1308: UndefinedMetricWarning: Recall is ill-defined and being set to 0.0 due to no true samples. Use `zero_division` parameter to control this behavior.\n",
      "  _warn_prf(average, modifier, msg_start, len(result))\n",
      "/home/landes/opt/lib/python-3.9.9/lib/python3.9/site-packages/numpy/lib/function_base.py:380: RuntimeWarning: Mean of empty slice.\n",
      "  avg = a.mean(axis)\n",
      "/home/landes/opt/lib/python-3.9.9/lib/python3.9/site-packages/numpy/core/_methods.py:189: RuntimeWarning: invalid value encountered in double_scalars\n",
      "  ret = ret.dtype.type(ret / rcount)\n",
      "/home/landes/opt/lib/python-3.9.9/lib/python3.9/site-packages/numpy/lib/function_base.py:380: RuntimeWarning: Mean of empty slice.\n",
      "  avg = a.mean(axis)\n",
      "/home/landes/opt/lib/python-3.9.9/lib/python3.9/site-packages/numpy/core/_methods.py:189: RuntimeWarning: invalid value encountered in double_scalars\n",
      "  ret = ret.dtype.type(ret / rcount)\n",
      "/home/landes/opt/lib/python-3.9.9/lib/python3.9/site-packages/numpy/lib/function_base.py:380: RuntimeWarning: Mean of empty slice.\n",
      "  avg = a.mean(axis)\n",
      "/home/landes/opt/lib/python-3.9.9/lib/python3.9/site-packages/numpy/core/_methods.py:189: RuntimeWarning: invalid value encountered in double_scalars\n",
      "  ret = ret.dtype.type(ret / rcount)\n"
     ]
    },
    {
     "name": "stderr",
     "output_type": "stream",
     "text": [
      "tr:772.971|va min:1111.123|va:1067.856|lr:0.01 \\/:  30%|███       | 3/10 [01:18<02:18, 19.81s/it]/home/landes/opt/lib/python-3.9.9/lib/python3.9/site-packages/numpy/lib/function_base.py:380: RuntimeWarning: Mean of empty slice.\n",
      "  avg = a.mean(axis)\n",
      "/home/landes/opt/lib/python-3.9.9/lib/python3.9/site-packages/numpy/core/_methods.py:189: RuntimeWarning: invalid value encountered in double_scalars\n",
      "  ret = ret.dtype.type(ret / rcount)\n",
      "/home/landes/opt/lib/python-3.9.9/lib/python3.9/site-packages/sklearn/metrics/_classification.py:1570: UndefinedMetricWarning: F-score is ill-defined and being set to 0.0 due to no true nor predicted samples. Use `zero_division` parameter to control this behavior.\n",
      "  _warn_prf(average, \"true nor predicted\", \"F-score is\", len(true_sum))\n",
      "/home/landes/opt/lib/python-3.9.9/lib/python3.9/site-packages/sklearn/metrics/_classification.py:1308: UndefinedMetricWarning: Recall is ill-defined and being set to 0.0 due to no true samples. Use `zero_division` parameter to control this behavior.\n",
      "  _warn_prf(average, modifier, msg_start, len(result))\n",
      "/home/landes/opt/lib/python-3.9.9/lib/python3.9/site-packages/numpy/lib/function_base.py:380: RuntimeWarning: Mean of empty slice.\n",
      "  avg = a.mean(axis)\n",
      "/home/landes/opt/lib/python-3.9.9/lib/python3.9/site-packages/numpy/core/_methods.py:189: RuntimeWarning: invalid value encountered in double_scalars\n",
      "  ret = ret.dtype.type(ret / rcount)\n",
      "/home/landes/opt/lib/python-3.9.9/lib/python3.9/site-packages/numpy/lib/function_base.py:380: RuntimeWarning: Mean of empty slice.\n",
      "  avg = a.mean(axis)\n",
      "/home/landes/opt/lib/python-3.9.9/lib/python3.9/site-packages/numpy/core/_methods.py:189: RuntimeWarning: invalid value encountered in double_scalars\n",
      "  ret = ret.dtype.type(ret / rcount)\n",
      "/home/landes/opt/lib/python-3.9.9/lib/python3.9/site-packages/numpy/lib/function_base.py:380: RuntimeWarning: Mean of empty slice.\n",
      "  avg = a.mean(axis)\n",
      "/home/landes/opt/lib/python-3.9.9/lib/python3.9/site-packages/numpy/core/_methods.py:189: RuntimeWarning: invalid value encountered in double_scalars\n",
      "  ret = ret.dtype.type(ret / rcount)\n",
      "/home/landes/opt/lib/python-3.9.9/lib/python3.9/site-packages/numpy/lib/function_base.py:380: RuntimeWarning: Mean of empty slice.\n",
      "  avg = a.mean(axis)\n",
      "/home/landes/opt/lib/python-3.9.9/lib/python3.9/site-packages/numpy/core/_methods.py:189: RuntimeWarning: invalid value encountered in double_scalars\n",
      "  ret = ret.dtype.type(ret / rcount)\n",
      "/home/landes/opt/lib/python-3.9.9/lib/python3.9/site-packages/sklearn/metrics/_classification.py:1570: UndefinedMetricWarning: F-score is ill-defined and being set to 0.0 due to no true nor predicted samples. Use `zero_division` parameter to control this behavior.\n",
      "  _warn_prf(average, \"true nor predicted\", \"F-score is\", len(true_sum))\n",
      "/home/landes/opt/lib/python-3.9.9/lib/python3.9/site-packages/sklearn/metrics/_classification.py:1308: UndefinedMetricWarning: Recall is ill-defined and being set to 0.0 due to no true samples. Use `zero_division` parameter to control this behavior.\n",
      "  _warn_prf(average, modifier, msg_start, len(result))\n",
      "/home/landes/opt/lib/python-3.9.9/lib/python3.9/site-packages/numpy/lib/function_base.py:380: RuntimeWarning: Mean of empty slice.\n",
      "  avg = a.mean(axis)\n",
      "/home/landes/opt/lib/python-3.9.9/lib/python3.9/site-packages/numpy/core/_methods.py:189: RuntimeWarning: invalid value encountered in double_scalars\n",
      "  ret = ret.dtype.type(ret / rcount)\n",
      "/home/landes/opt/lib/python-3.9.9/lib/python3.9/site-packages/numpy/lib/function_base.py:380: RuntimeWarning: Mean of empty slice.\n",
      "  avg = a.mean(axis)\n",
      "/home/landes/opt/lib/python-3.9.9/lib/python3.9/site-packages/numpy/core/_methods.py:189: RuntimeWarning: invalid value encountered in double_scalars\n",
      "  ret = ret.dtype.type(ret / rcount)\n",
      "/home/landes/opt/lib/python-3.9.9/lib/python3.9/site-packages/numpy/lib/function_base.py:380: RuntimeWarning: Mean of empty slice.\n",
      "  avg = a.mean(axis)\n",
      "/home/landes/opt/lib/python-3.9.9/lib/python3.9/site-packages/numpy/core/_methods.py:189: RuntimeWarning: invalid value encountered in double_scalars\n",
      "  ret = ret.dtype.type(ret / rcount)\n",
      "tr:683.235|va min:1067.856|va:1055.598|lr:0.01 \\/:  40%|████      | 4/10 [01:38<01:58, 19.79s/it]/home/landes/opt/lib/python-3.9.9/lib/python3.9/site-packages/numpy/lib/function_base.py:380: RuntimeWarning: Mean of empty slice.\n",
      "  avg = a.mean(axis)\n",
      "/home/landes/opt/lib/python-3.9.9/lib/python3.9/site-packages/numpy/core/_methods.py:189: RuntimeWarning: invalid value encountered in double_scalars\n",
      "  ret = ret.dtype.type(ret / rcount)\n",
      "/home/landes/opt/lib/python-3.9.9/lib/python3.9/site-packages/sklearn/metrics/_classification.py:1570: UndefinedMetricWarning: F-score is ill-defined and being set to 0.0 due to no true nor predicted samples. Use `zero_division` parameter to control this behavior.\n",
      "  _warn_prf(average, \"true nor predicted\", \"F-score is\", len(true_sum))\n",
      "/home/landes/opt/lib/python-3.9.9/lib/python3.9/site-packages/sklearn/metrics/_classification.py:1308: UndefinedMetricWarning: Recall is ill-defined and being set to 0.0 due to no true samples. Use `zero_division` parameter to control this behavior.\n",
      "  _warn_prf(average, modifier, msg_start, len(result))\n",
      "/home/landes/opt/lib/python-3.9.9/lib/python3.9/site-packages/numpy/lib/function_base.py:380: RuntimeWarning: Mean of empty slice.\n",
      "  avg = a.mean(axis)\n",
      "/home/landes/opt/lib/python-3.9.9/lib/python3.9/site-packages/numpy/core/_methods.py:189: RuntimeWarning: invalid value encountered in double_scalars\n",
      "  ret = ret.dtype.type(ret / rcount)\n",
      "/home/landes/opt/lib/python-3.9.9/lib/python3.9/site-packages/numpy/lib/function_base.py:380: RuntimeWarning: Mean of empty slice.\n",
      "  avg = a.mean(axis)\n",
      "/home/landes/opt/lib/python-3.9.9/lib/python3.9/site-packages/numpy/core/_methods.py:189: RuntimeWarning: invalid value encountered in double_scalars\n",
      "  ret = ret.dtype.type(ret / rcount)\n",
      "/home/landes/opt/lib/python-3.9.9/lib/python3.9/site-packages/numpy/lib/function_base.py:380: RuntimeWarning: Mean of empty slice.\n",
      "  avg = a.mean(axis)\n",
      "/home/landes/opt/lib/python-3.9.9/lib/python3.9/site-packages/numpy/core/_methods.py:189: RuntimeWarning: invalid value encountered in double_scalars\n",
      "  ret = ret.dtype.type(ret / rcount)\n",
      "/home/landes/opt/lib/python-3.9.9/lib/python3.9/site-packages/numpy/lib/function_base.py:380: RuntimeWarning: Mean of empty slice.\n",
      "  avg = a.mean(axis)\n",
      "/home/landes/opt/lib/python-3.9.9/lib/python3.9/site-packages/numpy/core/_methods.py:189: RuntimeWarning: invalid value encountered in double_scalars\n",
      "  ret = ret.dtype.type(ret / rcount)\n",
      "/home/landes/opt/lib/python-3.9.9/lib/python3.9/site-packages/sklearn/metrics/_classification.py:1570: UndefinedMetricWarning: F-score is ill-defined and being set to 0.0 due to no true nor predicted samples. Use `zero_division` parameter to control this behavior.\n",
      "  _warn_prf(average, \"true nor predicted\", \"F-score is\", len(true_sum))\n",
      "/home/landes/opt/lib/python-3.9.9/lib/python3.9/site-packages/sklearn/metrics/_classification.py:1308: UndefinedMetricWarning: Recall is ill-defined and being set to 0.0 due to no true samples. Use `zero_division` parameter to control this behavior.\n",
      "  _warn_prf(average, modifier, msg_start, len(result))\n",
      "/home/landes/opt/lib/python-3.9.9/lib/python3.9/site-packages/numpy/lib/function_base.py:380: RuntimeWarning: Mean of empty slice.\n",
      "  avg = a.mean(axis)\n",
      "/home/landes/opt/lib/python-3.9.9/lib/python3.9/site-packages/numpy/core/_methods.py:189: RuntimeWarning: invalid value encountered in double_scalars\n",
      "  ret = ret.dtype.type(ret / rcount)\n",
      "/home/landes/opt/lib/python-3.9.9/lib/python3.9/site-packages/numpy/lib/function_base.py:380: RuntimeWarning: Mean of empty slice.\n",
      "  avg = a.mean(axis)\n",
      "/home/landes/opt/lib/python-3.9.9/lib/python3.9/site-packages/numpy/core/_methods.py:189: RuntimeWarning: invalid value encountered in double_scalars\n",
      "  ret = ret.dtype.type(ret / rcount)\n",
      "/home/landes/opt/lib/python-3.9.9/lib/python3.9/site-packages/numpy/lib/function_base.py:380: RuntimeWarning: Mean of empty slice.\n",
      "  avg = a.mean(axis)\n",
      "/home/landes/opt/lib/python-3.9.9/lib/python3.9/site-packages/numpy/core/_methods.py:189: RuntimeWarning: invalid value encountered in double_scalars\n",
      "  ret = ret.dtype.type(ret / rcount)\n"
     ]
    },
    {
     "name": "stderr",
     "output_type": "stream",
     "text": [
      "tr:569.748|va min:1055.598|va:1096.369|lr:0.01 /\\:  70%|███████   | 7/10 [02:17<00:58, 19.44s/it]"
     ]
    }
   ],
   "source": [
    "facade.learning_rate = 0.01\n",
    "facade.epochs = 10\n",
    "mng.run()"
   ]
  },
  {
   "cell_type": "markdown",
   "metadata": {},
   "source": [
    "# Glove 300 embeddings\n",
    "\n",
    "Next we use the same learning rate, but switch to the 300 dimension version of the embeddings.  The number of epochs is reduced because I have run the test before I know at what epoch the validation loss converges.  Since the model is saved only when the validation loss decreases, we early stop at 8 epochs."
   ]
  },
  {
   "cell_type": "code",
   "execution_count": null,
   "metadata": {},
   "outputs": [],
   "source": [
    "facade.epochs = 8\n",
    "facade.embedding = 'glove_300_embedding'\n",
    "mng.run()"
   ]
  },
  {
   "cell_type": "markdown",
   "metadata": {},
   "source": [
    "# Word2vec Embeddings\n",
    "\n",
    "Now we switch to the Google 300D word2vec pretrained vectors using 12 epochs, even though it has converged at 9 epochs previously."
   ]
  },
  {
   "cell_type": "code",
   "execution_count": null,
   "metadata": {},
   "outputs": [],
   "source": [
    "facade.epochs = 12\n",
    "facade.embedding = 'word2vec_300_embedding'\n",
    "mng.run()"
   ]
  },
  {
   "cell_type": "markdown",
   "metadata": {},
   "source": [
    "# BERT Embeddings\n",
    "\n",
    "Now we test with Bert context aware frozen (not trainable) embeddings using 10 epochs.  We must empty the `net_settings` attributes, which are the lingustic features, since Bert tokenizes using the word piece algorithm and the tensor shapes will not align.  We'll address this later."
   ]
  },
  {
   "cell_type": "code",
   "execution_count": null,
   "metadata": {
    "scrolled": false
   },
   "outputs": [],
   "source": [
    "facade = mng.create_facade('transformer-trainable')\n",
    "mng.run()\n",
    "facade.persist_result()"
   ]
  },
  {
   "cell_type": "code",
   "execution_count": null,
   "metadata": {
    "scrolled": true
   },
   "outputs": [],
   "source": [
    "mng.clear()\n",
    "facade = mng.create_facade('transformer-trainable')\n",
    "facade.net_settings.add_attributes = ('syns_expander', 'tags_expander')\n",
    "facade.epochs = 5\n",
    "mng.run()"
   ]
  },
  {
   "cell_type": "code",
   "execution_count": null,
   "metadata": {
    "scrolled": true
   },
   "outputs": [],
   "source": [
    "mng.clear()\n",
    "mng.config('transformer_trainable_resource', model_id='roberta-base')\n",
    "facade = mng.create_facade('transformer-trainable')\n",
    "facade.epochs = 8\n",
    "mng.run()"
   ]
  },
  {
   "cell_type": "code",
   "execution_count": null,
   "metadata": {},
   "outputs": [],
   "source": [
    "import logging\n",
    "logging.getLogger('zensols.deepnlp.transformer.optimizer').setLevel(logging.INFO)\n",
    "mng.clear()\n",
    "mng.config('model_settings',\n",
    "           scheduler_class_name='zensols.deepnlp.transformer.TransformerSchedulerFactory',\n",
    "           scheduler_params=\"dict: {'name': 'linear', 'num_warmup_steps': 0.01}\")\n",
    "facade = mng.create_facade('transformer-trainable')\n",
    "facade.epochs = 5\n",
    "mng.run()"
   ]
  },
  {
   "cell_type": "code",
   "execution_count": null,
   "metadata": {},
   "outputs": [],
   "source": [
    "mng.clear()\n",
    "facade = mng.create_facade('transformer-trainable-large')\n",
    "mng.run()"
   ]
  },
  {
   "cell_type": "code",
   "execution_count": null,
   "metadata": {},
   "outputs": [],
   "source": [
    "import logging\n",
    "logging.getLogger('zensols.deepnlp.transformer.optimizer').setLevel(logging.INFO)\n",
    "mng.clear()\n",
    "mng.config('model_settings',\n",
    "           scheduler_class_name='zensols.deepnlp.transformer.TransformerSchedulerFactory',\n",
    "           scheduler_params=\"dict: {'name': 'linear', 'num_warmup_steps': 0.01}\")\n",
    "facade = mng.create_facade('transformer-trainable-large')\n",
    "facade.epochs = 10\n",
    "mng.run()"
   ]
  }
 ],
 "metadata": {
  "kernelspec": {
   "display_name": "Python 3 (ipykernel)",
   "language": "python",
   "name": "python3"
  },
  "language_info": {
   "codemirror_mode": {
    "name": "ipython",
    "version": 3
   },
   "file_extension": ".py",
   "mimetype": "text/x-python",
   "name": "python",
   "nbconvert_exporter": "python",
   "pygments_lexer": "ipython3",
   "version": "3.9.9"
  }
 },
 "nbformat": 4,
 "nbformat_minor": 4
}
