{
 "cells": [
  {
   "cell_type": "markdown",
   "metadata": {},
   "source": [
    "# Memory and resource deallocation test.\n",
    "\n",
    "This notebook uses the NER example code to test for resource leaks.  Please see the `ner.ipynb` for the actual NER notebook example."
   ]
  },
  {
   "cell_type": "code",
   "execution_count": 1,
   "metadata": {},
   "outputs": [],
   "source": [
    "# set up notebook environment\n",
    "import sys\n",
    "from pathlib import Path\n",
    "app_root_dir = Path('..')\n",
    "# add the example to the Python library path\n",
    "sys.path.append(str(app_root_dir / 'src'))\n",
    "# add the deepnlp path\n",
    "sys.path.append('../../../src/python')"
   ]
  },
  {
   "cell_type": "markdown",
   "metadata": {},
   "source": [
    "## Configure and create the app specific facade\n",
    "\n",
    "Now that the interpreter environment is set up, we can import local packages."
   ]
  },
  {
   "cell_type": "code",
   "execution_count": 2,
   "metadata": {},
   "outputs": [
    {
     "data": {
      "text/html": [
       "<style>.container { width:95% !important; }</style>"
      ],
      "text/plain": [
       "<IPython.core.display.HTML object>"
      ]
     },
     "metadata": {},
     "output_type": "display_data"
    }
   ],
   "source": [
    "from zensols.deeplearn import TorchConfig\n",
    "from zensols.deeplearn.cli import JupyterManager\n",
    "from ner import CliFactory\n",
    "\n",
    "# reset random state for consistency of each new test that uses this function\n",
    "TorchConfig.init()\n",
    "\n",
    "mng = JupyterManager(\n",
    "    allocation_tracking=True,\n",
    "    cli_class=CliFactory,\n",
    "    factory_args={'root_dir': app_root_dir},\n",
    "    cli_args_fn=lambda model: ['-c', str(app_root_dir / 'models' / f'{model}.conf')])\n",
    "    \n",
    "# number of epochs to test with, which needs to be at least two to excercise it properly\n",
    "n_epochs = 2\n",
    "# if a memory leak test fails, set to False for that test\n",
    "keep_going = True"
   ]
  },
  {
   "cell_type": "code",
   "execution_count": 3,
   "metadata": {
    "scrolled": false
   },
   "outputs": [
    {
     "name": "stderr",
     "output_type": "stream",
     "text": [
      "2021-05-08 17:37:50,439 [zensols.deeplearn.model.facade] creating new executor\n",
      "2021-05-08 17:37:51,541 [zensols.deepnlp.embed.wordtext] reading binary vector file: ../corpus/glove/bin/6B.50/vec\n",
      "2021-05-08 17:37:51,852 [zensols.deepnlp.embed.wordtext] loaded 400000 vectors in 0s\n",
      "2021-05-08 17:37:52,128 [zensols.deepnlp.embed.wordtext] prepared vectors in 0s\n",
      "2021-05-08 17:37:52,129 [zensols.deepnlp.embed.domain] created tensor vectory matrix on use cuda: True, device: cuda:0\n",
      "2021-05-08 17:37:55,352 [zensols.deeplearn.model.executor.status] created model on cpu with use cuda: True, device: cuda:0\n",
      "2021-05-08 17:37:55,353 [zensols.deeplearn.model.executor.status] resetting executor\n",
      "2021-05-08 17:37:55,355 [zensols.deeplearn.model.facade] training...\n",
      "2021-05-08 17:37:55,362 [zensols.deeplearn.model.executor.status] batch iteration: gpu, limit: 9223372036854775807, caching: True, cached: 0\n",
      "2021-05-08 17:37:55,363 [zensols.deeplearn.model.executor.status] preparing datasets using iteration: gpu\n",
      "2021-05-08 17:37:59,462 [zensols.deeplearn.model.executor.status] loaded 136 batches in 4s\n",
      "2021-05-08 17:37:59,463 [zensols.deeplearn.model.executor.status] train/test sets: 110 26\n",
      "2021-05-08 17:37:59,468 [zensols.deeplearn.model.executor.status] created model on cpu with use cuda: True, device: cuda:0\n",
      "2021-05-08 17:37:59,497 [zensols.deeplearn.model.executor.status] training model <class 'zensols.deepnlp.layer.embrecurcrf.EmbeddedRecurrentCRF'> on cuda:0 for 2 epochs using learning rate 0.001\n",
      "  0%|                                                                                             | 0/2 [00:00<?, ?it/s]2021-05-08 17:37:59,532 [zensols.deeplearn.model.executor.status] watching update file ../target/update.json\n",
      "tr:140029.548|va min:167747.123|va:130034.083|lr:0.001 \\/: 100%|██████████████████████████| 2/2 [00:24<00:00, 12.20s/it]2021-05-08 17:38:23,991 [zensols.deeplearn.model.executor.status] epoch threshold reached at 2\n",
      "2021-05-08 17:38:23,992 [zensols.deeplearn.model.executor.status] final minimum validation loss: 130034.08289889937, 2 decreases\n",
      "2021-05-08 17:38:24,025 [zensols.deeplearn.model.executor.status] executed train in 24s\n",
      "2021-05-08 17:38:24,025 [zensols.deeplearn.model.executor.status] deallocating 136 batches\n",
      "tr:140029.548|va min:167747.123|va:130034.083|lr:0.001 \\/: 100%|██████████████████████████| 2/2 [00:24<00:00, 12.25s/it]\n",
      "2021-05-08 17:38:24,041 [zensols.deeplearn.model.facade] trained in 28s\n",
      "2021-05-08 17:38:24,042 [zensols.deeplearn.model.executor.status] reloading model weights\n",
      "2021-05-08 17:38:24,075 [zensols.deeplearn.model.executor.status] created model on cpu with use cuda: True, device: cuda:0\n",
      "2021-05-08 17:38:24,121 [zensols.deeplearn.model.facade] testing...\n",
      "2021-05-08 17:38:24,122 [zensols.deeplearn.model.executor.status] batch iteration: gpu, limit: 9223372036854775807, caching: True, cached: 1\n",
      "2021-05-08 17:38:24,123 [zensols.deeplearn.model.executor.status] preparing datasets using iteration: gpu\n",
      "2021-05-08 17:38:24,896 [zensols.deeplearn.model.executor.status] loaded 27 batches in 0s\n",
      "2021-05-08 17:38:24,897 [zensols.deeplearn.model.executor.status] train/test sets: 27\n",
      "2021-05-08 17:38:24,926 [zensols.deeplearn.model.executor.status] testing model <class 'zensols.deepnlp.layer.embrecurcrf.EmbeddedRecurrentCRF'> on cuda:0\n",
      "2021-05-08 17:38:26,082 [zensols.deeplearn.model.executor.status] executed test in 1s\n",
      "2021-05-08 17:38:26,082 [zensols.deeplearn.model.executor.status] deallocating 27 batches\n",
      "2021-05-08 17:38:26,086 [zensols.deeplearn.model.facade] trained in 1s\n"
     ]
    }
   ],
   "source": [
    "from io import StringIO\n",
    "facade = mng.create_facade('glove50')\n",
    "facade.epochs = n_epochs\n",
    "# write to force more allocation to test deallocation, but don't clutter the notebook output\n",
    "facade.write(writer=StringIO())\n",
    "mng.run(False)"
   ]
  },
  {
   "cell_type": "code",
   "execution_count": 4,
   "metadata": {
    "scrolled": true
   },
   "outputs": [
    {
     "name": "stderr",
     "output_type": "stream",
     "text": [
      "2021-05-08 17:38:26,093 [zensols.deepnlp.embed.wordtext] reading binary vector file: ../corpus/glove/bin/6B.300/vec\n",
      "2021-05-08 17:38:26,697 [zensols.deepnlp.embed.wordtext] loaded 400000 vectors in 0s\n",
      "2021-05-08 17:38:27,080 [zensols.deepnlp.embed.wordtext] prepared vectors in 0s\n",
      "2021-05-08 17:38:27,081 [zensols.deepnlp.embed.domain] created tensor vectory matrix on use cuda: True, device: cuda:0\n",
      "2021-05-08 17:38:27,240 [zensols.deeplearn.model.facade] clearing\n",
      "2021-05-08 17:38:27,402 [zensols.deeplearn.model.facade] creating new executor\n",
      "2021-05-08 17:38:27,413 [zensols.deepnlp.embed.wordtext] reading binary vector file: ../corpus/glove/bin/6B.300/vec\n",
      "2021-05-08 17:38:28,004 [zensols.deepnlp.embed.wordtext] loaded 400000 vectors in 0s\n",
      "2021-05-08 17:38:28,389 [zensols.deepnlp.embed.wordtext] prepared vectors in 0s\n",
      "2021-05-08 17:38:28,390 [zensols.deepnlp.embed.domain] created tensor vectory matrix on use cuda: True, device: cuda:0\n",
      "2021-05-08 17:38:28,569 [zensols.deeplearn.model.executor.status] resetting executor\n",
      "2021-05-08 17:38:28,570 [zensols.deeplearn.model.facade] training...\n",
      "2021-05-08 17:38:28,626 [zensols.deeplearn.model.executor.status] batch iteration: gpu, limit: 9223372036854775807, caching: True, cached: 0\n",
      "2021-05-08 17:38:28,627 [zensols.deeplearn.model.executor.status] preparing datasets using iteration: gpu\n",
      "2021-05-08 17:38:32,679 [zensols.deeplearn.model.executor.status] loaded 136 batches in 4s\n",
      "2021-05-08 17:38:32,680 [zensols.deeplearn.model.executor.status] train/test sets: 110 26\n",
      "2021-05-08 17:38:32,853 [zensols.deeplearn.model.executor.status] created model on cpu with use cuda: True, device: cuda:0\n",
      "2021-05-08 17:38:33,015 [zensols.deeplearn.model.executor.status] training model <class 'zensols.deepnlp.layer.embrecurcrf.EmbeddedRecurrentCRF'> on cuda:0 for 2 epochs using learning rate 0.001\n",
      "  0%|                                                    | 0/2 [00:00<?, ?it/s]2021-05-08 17:38:33,017 [zensols.deeplearn.model.executor.status] watching update file ../target/update.json\n",
      "tr:117740.578|va min:144685.659|va:108265.399|lr:0.001 \\/: 100%|█| 2/2 [00:25<02021-05-08 17:38:58,826 [zensols.deeplearn.model.executor.status] epoch threshold reached at 2\n",
      "2021-05-08 17:38:58,826 [zensols.deeplearn.model.executor.status] final minimum validation loss: 108265.39891189369, 2 decreases\n",
      "2021-05-08 17:38:58,856 [zensols.deeplearn.model.executor.status] executed train in 26s\n",
      "2021-05-08 17:38:58,857 [zensols.deeplearn.model.executor.status] deallocating 136 batches\n",
      "tr:117740.578|va min:144685.659|va:108265.399|lr:0.001 \\/: 100%|█| 2/2 [00:25<0\n",
      "2021-05-08 17:38:58,881 [zensols.deeplearn.model.facade] trained in 30s\n",
      "2021-05-08 17:38:58,882 [zensols.deeplearn.model.executor.status] reloading model weights\n",
      "2021-05-08 17:38:59,051 [zensols.deeplearn.model.executor.status] created model on cpu with use cuda: True, device: cuda:0\n",
      "2021-05-08 17:38:59,219 [zensols.deeplearn.model.facade] testing...\n",
      "2021-05-08 17:38:59,220 [zensols.deeplearn.model.executor.status] batch iteration: gpu, limit: 9223372036854775807, caching: True, cached: 1\n",
      "2021-05-08 17:38:59,220 [zensols.deeplearn.model.executor.status] preparing datasets using iteration: gpu\n",
      "2021-05-08 17:38:59,963 [zensols.deeplearn.model.executor.status] loaded 27 batches in 0s\n",
      "2021-05-08 17:38:59,964 [zensols.deeplearn.model.executor.status] train/test sets: 27\n",
      "2021-05-08 17:39:00,126 [zensols.deeplearn.model.executor.status] testing model <class 'zensols.deepnlp.layer.embrecurcrf.EmbeddedRecurrentCRF'> on cuda:0\n",
      "2021-05-08 17:39:01,292 [zensols.deeplearn.model.executor.status] executed test in 1s\n",
      "2021-05-08 17:39:01,293 [zensols.deeplearn.model.executor.status] deallocating 27 batches\n",
      "2021-05-08 17:39:01,296 [zensols.deeplearn.model.facade] trained in 2s\n"
     ]
    }
   ],
   "source": [
    "if keep_going:\n",
    "    facade.embedding = 'glove_300_embedding'\n",
    "    mng.run(False)\n",
    "    mng.show_leaks()"
   ]
  },
  {
   "cell_type": "code",
   "execution_count": 5,
   "metadata": {
    "scrolled": true
   },
   "outputs": [
    {
     "name": "stderr",
     "output_type": "stream",
     "text": [
      "2021-05-08 17:39:01,689 [zensols.deeplearn.model.facade] creating new executor\n",
      "2021-05-08 17:39:05,049 [zensols.deeplearn.model.executor.status] resetting executor\n",
      "2021-05-08 17:39:05,050 [zensols.deeplearn.model.facade] training...\n",
      "2021-05-08 17:39:05,093 [zensols.deeplearn.model.executor.status] batch iteration: gpu, limit: 9223372036854775807, caching: True, cached: 0\n",
      "2021-05-08 17:39:05,093 [zensols.deeplearn.model.executor.status] preparing datasets using iteration: gpu\n",
      "2021-05-08 17:40:53,808 [zensols.deeplearn.model.executor.status] loaded 136 batches in 1 minute, 48s\n",
      "2021-05-08 17:40:53,809 [zensols.deeplearn.model.executor.status] train/test sets: 110 26\n",
      "2021-05-08 17:40:53,821 [zensols.deeplearn.model.executor.status] created model on cpu with use cuda: True, device: cuda:0\n",
      "2021-05-08 17:40:53,823 [zensols.deeplearn.model.executor.status] training model <class 'zensols.deepnlp.layer.embrecurcrf.EmbeddedRecurrentCRF'> on cuda:0 for 2 epochs using learning rate 0.001\n",
      "  0%|                                                                                             | 0/2 [00:00<?, ?it/s]2021-05-08 17:40:53,826 [zensols.deeplearn.model.executor.status] watching update file ../target/update.json\n",
      "tr:158999.166|va min:181452.713|va:157851.425|lr:0.001 \\/: 100%|██████████████████████████| 2/2 [00:59<00:00, 29.97s/it]2021-05-08 17:41:53,812 [zensols.deeplearn.model.executor.status] epoch threshold reached at 2\n",
      "2021-05-08 17:41:53,813 [zensols.deeplearn.model.executor.status] final minimum validation loss: 157851.4251594135, 2 decreases\n",
      "2021-05-08 17:41:53,841 [zensols.deeplearn.model.executor.status] executed train in 1 minute, 0s\n",
      "2021-05-08 17:41:53,842 [zensols.deeplearn.model.executor.status] deallocating 136 batches\n",
      "tr:158999.166|va min:181452.713|va:157851.425|lr:0.001 \\/: 100%|██████████████████████████| 2/2 [01:00<00:00, 30.01s/it]\n",
      "2021-05-08 17:41:53,859 [zensols.deeplearn.model.facade] trained in 2 minutes, 48s\n",
      "2021-05-08 17:41:53,859 [zensols.deeplearn.model.executor.status] reloading model weights\n",
      "2021-05-08 17:41:53,865 [zensols.deeplearn.model.executor.status] created model on cpu with use cuda: True, device: cuda:0\n",
      "2021-05-08 17:41:53,886 [zensols.deeplearn.model.facade] testing...\n",
      "2021-05-08 17:41:53,887 [zensols.deeplearn.model.executor.status] batch iteration: gpu, limit: 9223372036854775807, caching: True, cached: 1\n",
      "2021-05-08 17:41:53,888 [zensols.deeplearn.model.executor.status] preparing datasets using iteration: gpu\n",
      "2021-05-08 17:42:15,125 [zensols.deeplearn.model.executor.status] loaded 27 batches in 21s\n",
      "2021-05-08 17:42:15,126 [zensols.deeplearn.model.executor.status] train/test sets: 27\n",
      "2021-05-08 17:42:15,128 [zensols.deeplearn.model.executor.status] testing model <class 'zensols.deepnlp.layer.embrecurcrf.EmbeddedRecurrentCRF'> on cuda:0\n",
      "2021-05-08 17:42:19,166 [zensols.deeplearn.model.executor.status] executed test in 4s\n",
      "2021-05-08 17:42:19,167 [zensols.deeplearn.model.executor.status] deallocating 27 batches\n",
      "2021-05-08 17:42:19,171 [zensols.deeplearn.model.facade] trained in 25s\n"
     ]
    }
   ],
   "source": [
    "if keep_going:\n",
    "    facade = mng.create_facade('transformer-fixed')\n",
    "    facade.epochs = n_epochs\n",
    "    mng.run(False)"
   ]
  },
  {
   "cell_type": "code",
   "execution_count": 6,
   "metadata": {
    "scrolled": false
   },
   "outputs": [
    {
     "name": "stderr",
     "output_type": "stream",
     "text": [
      "2021-05-08 17:42:19,640 [zensols.deeplearn.model.facade] creating new executor\n",
      "2021-05-08 17:42:21,616 [zensols.deeplearn.model.executor.status] resetting executor\n",
      "2021-05-08 17:42:21,617 [zensols.deeplearn.model.facade] training...\n",
      "2021-05-08 17:42:21,659 [zensols.deeplearn.model.executor.status] batch iteration: gpu, limit: 9223372036854775807, caching: True, cached: 0\n",
      "2021-05-08 17:42:21,660 [zensols.deeplearn.model.executor.status] preparing datasets using iteration: gpu\n",
      "2021-05-08 17:42:23,987 [zensols.deeplearn.model.executor.status] loaded 136 batches in 2s\n",
      "2021-05-08 17:42:23,988 [zensols.deeplearn.model.executor.status] train/test sets: 110 26\n",
      "2021-05-08 17:42:24,089 [zensols.deeplearn.model.executor.status] created model on cpu with use cuda: True, device: cuda:0\n",
      "2021-05-08 17:42:24,184 [zensols.deeplearn.model.executor.status] training model <class 'zensols.deepnlp.layer.embrecurcrf.EmbeddedRecurrentCRF'> on cuda:0 for 2 epochs using learning rate 0.001\n",
      "  0%|                                                                                             | 0/2 [00:00<?, ?it/s]2021-05-08 17:42:24,187 [zensols.deeplearn.model.executor.status] watching update file ../target/update.json\n",
      "tr:247364.244|va min:341729.143|va:207113.868|lr:0.001 \\/: 100%|█████████████████████████| 2/2 [30:12<00:00, 901.89s/it]2021-05-08 18:12:36,896 [zensols.deeplearn.model.executor.status] epoch threshold reached at 2\n",
      "2021-05-08 18:12:36,897 [zensols.deeplearn.model.executor.status] final minimum validation loss: 207113.86759833692, 2 decreases\n",
      "2021-05-08 18:12:36,924 [zensols.deeplearn.model.executor.status] executed train in 30 minutes, 12s\n",
      "2021-05-08 18:12:36,925 [zensols.deeplearn.model.executor.status] deallocating 136 batches\n",
      "tr:247364.244|va min:341729.143|va:207113.868|lr:0.001 \\/: 100%|█████████████████████████| 2/2 [30:12<00:00, 906.37s/it]\n",
      "2021-05-08 18:12:37,097 [zensols.deeplearn.model.facade] trained in 30 minutes, 15s\n",
      "2021-05-08 18:12:37,098 [zensols.deeplearn.model.executor.status] reloading model weights\n",
      "2021-05-08 18:12:37,287 [zensols.deeplearn.model.executor.status] created model on cpu with use cuda: True, device: cuda:0\n",
      "2021-05-08 18:12:38,166 [zensols.deeplearn.model.facade] testing...\n",
      "2021-05-08 18:12:38,167 [zensols.deeplearn.model.executor.status] batch iteration: gpu, limit: 9223372036854775807, caching: True, cached: 1\n",
      "2021-05-08 18:12:38,168 [zensols.deeplearn.model.executor.status] preparing datasets using iteration: gpu\n",
      "2021-05-08 18:12:38,612 [zensols.deeplearn.model.executor.status] loaded 27 batches in 0s\n",
      "2021-05-08 18:12:38,613 [zensols.deeplearn.model.executor.status] train/test sets: 27\n",
      "2021-05-08 18:12:38,800 [zensols.deeplearn.model.executor.status] testing model <class 'zensols.deepnlp.layer.embrecurcrf.EmbeddedRecurrentCRF'> on cuda:0\n",
      "2021-05-08 18:13:46,461 [zensols.deeplearn.model.executor.status] executed test in 1 minute, 7s\n",
      "2021-05-08 18:13:46,462 [zensols.deeplearn.model.executor.status] deallocating 27 batches\n",
      "2021-05-08 18:13:46,479 [zensols.deeplearn.model.facade] trained in 1 minute, 8s\n"
     ]
    }
   ],
   "source": [
    "if keep_going:\n",
    "    facade = mng.create_facade('transformer-trainable')\n",
    "    facade.epochs = n_epochs\n",
    "    mng.run(False)\n",
    "    mng.show_leaks()"
   ]
  }
 ],
 "metadata": {
  "kernelspec": {
   "display_name": "Python 3",
   "language": "python",
   "name": "python3"
  },
  "language_info": {
   "codemirror_mode": {
    "name": "ipython",
    "version": 3
   },
   "file_extension": ".py",
   "mimetype": "text/x-python",
   "name": "python",
   "nbconvert_exporter": "python",
   "pygments_lexer": "ipython3",
   "version": "3.9.4"
  }
 },
 "nbformat": 4,
 "nbformat_minor": 4
}
