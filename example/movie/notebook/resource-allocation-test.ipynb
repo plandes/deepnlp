{
 "cells": [
  {
   "cell_type": "markdown",
   "metadata": {},
   "source": [
    "# Memory and resource deallocation test.\n",
    "\n",
    "This notebook uses the NER example code to test for resource leaks.  Please see the `ner.ipynb` for the actual NER notebook example."
   ]
  },
  {
   "cell_type": "code",
   "execution_count": null,
   "metadata": {},
   "outputs": [],
   "source": [
    "# set up notebook environment\n",
    "import sys\n",
    "from pathlib import Path\n",
    "app_root_dir = Path('..')\n",
    "# add the example to the Python library path\n",
    "sys.path.append(str(app_root_dir / 'src'))\n",
    "# add the deepnlp path\n",
    "sys.path.append('../../../src/python')"
   ]
  },
  {
   "cell_type": "markdown",
   "metadata": {},
   "source": [
    "## Configure and create the app specific facade\n",
    "\n",
    "Now that the interpreter environment is set up, we can import local packages."
   ]
  },
  {
   "cell_type": "code",
   "execution_count": null,
   "metadata": {},
   "outputs": [],
   "source": [
    "from zensols.deeplearn import TorchConfig\n",
    "from zensols.deeplearn.cli import JupyterManager\n",
    "from movie import CliFactory\n",
    "\n",
    "# reset random state for consistency of each new test that uses this function\n",
    "TorchConfig.init()\n",
    "\n",
    "mng = JupyterManager(\n",
    "    allocation_tracking=True,\n",
    "    cli_class=CliFactory,\n",
    "    factory_args={'root_dir': app_root_dir},\n",
    "    cli_args_fn=lambda model: ['-c', str(app_root_dir / 'models' / f'{model}.conf')])\n",
    "    \n",
    "# number of epochs to test with, which needs to be at least two to excercise it properly\n",
    "n_epochs = 2\n",
    "# if a memory leak test fails, set to False for that test\n",
    "keep_going = True"
   ]
  },
  {
   "cell_type": "code",
   "execution_count": null,
   "metadata": {
    "scrolled": false
   },
   "outputs": [],
   "source": [
    "from io import StringIO\n",
    "facade = mng.create_facade('glove50')\n",
    "facade.epochs = n_epochs\n",
    "# write to force more allocation to test deallocation, but don't clutter the notebook output\n",
    "facade.write(writer=StringIO())\n",
    "mng.run(False)"
   ]
  },
  {
   "cell_type": "code",
   "execution_count": null,
   "metadata": {
    "scrolled": true
   },
   "outputs": [],
   "source": [
    "if keep_going:\n",
    "    facade.embedding = 'glove_300_embedding'\n",
    "    mng.run(False)\n",
    "    mng.show_leaks()"
   ]
  },
  {
   "cell_type": "code",
   "execution_count": null,
   "metadata": {
    "scrolled": true
   },
   "outputs": [],
   "source": [
    "if keep_going:\n",
    "    facade = mng.create_facade('transformer-fixed')\n",
    "    facade.epochs = n_epochs\n",
    "    mng.run(False)"
   ]
  },
  {
   "cell_type": "code",
   "execution_count": null,
   "metadata": {
    "scrolled": false
   },
   "outputs": [],
   "source": [
    "if keep_going:\n",
    "    facade = mng.create_facade('transformer-trainable')\n",
    "    facade.epochs = n_epochs\n",
    "    mng.run(False)\n",
    "    mng.show_leaks()"
   ]
  }
 ],
 "metadata": {
  "kernelspec": {
   "display_name": "Python 3",
   "language": "python",
   "name": "python3"
  },
  "language_info": {
   "codemirror_mode": {
    "name": "ipython",
    "version": 3
   },
   "file_extension": ".py",
   "mimetype": "text/x-python",
   "name": "python",
   "nbconvert_exporter": "python",
   "pygments_lexer": "ipython3",
   "version": "3.9.4"
  }
 },
 "nbformat": 4,
 "nbformat_minor": 4
}
