{
 "cells": [
  {
   "cell_type": "markdown",
   "metadata": {},
   "source": [
    "# Memory and resource deallocation test.\n",
    "\n",
    "This notebook uses the NER example code to test for resource leaks.  Please see the `ner.ipynb` for the actual NER notebook example."
   ]
  },
  {
   "cell_type": "code",
   "execution_count": null,
   "metadata": {},
   "outputs": [],
   "source": [
    "from harness import NotebookHarness\n",
    "harness = NotebookHarness()\n",
    "mng = harness()\n",
    "# number of epochs to test with, which needs to be at least two to excercise it properly\n",
    "mng.config('model_settings', epochs=2)\n",
    "# if a memory leak test fails, set to False for that test\n",
    "keep_going = True"
   ]
  },
  {
   "cell_type": "code",
   "execution_count": null,
   "metadata": {
    "scrolled": false
   },
   "outputs": [],
   "source": [
    "from io import StringIO\n",
    "facade = mng.create_facade('glove50')\n",
    "# write to force more allocation to test deallocation, but don't clutter the notebook output\n",
    "facade.write(writer=StringIO())\n",
    "mng.run(False)"
   ]
  },
  {
   "cell_type": "code",
   "execution_count": null,
   "metadata": {
    "scrolled": true
   },
   "outputs": [],
   "source": [
    "if keep_going:\n",
    "    facade.embedding = 'glove_300_embedding'\n",
    "    mng.run(False)\n",
    "    mng.show_leaks()"
   ]
  },
  {
   "cell_type": "code",
   "execution_count": null,
   "metadata": {
    "scrolled": true
   },
   "outputs": [],
   "source": [
    "if keep_going:\n",
    "    facade = mng.create_facade('transformer-fixed')\n",
    "    mng.run(False)"
   ]
  },
  {
   "cell_type": "code",
   "execution_count": null,
   "metadata": {
    "scrolled": false
   },
   "outputs": [],
   "source": [
    "if keep_going:\n",
    "    facade = mng.create_facade('transformer-trainable')\n",
    "    mng.run(False)\n",
    "    mng.show_leaks()"
   ]
  }
 ],
 "metadata": {
  "kernelspec": {
   "display_name": "Python 3",
   "language": "python",
   "name": "python3"
  },
  "language_info": {
   "codemirror_mode": {
    "name": "ipython",
    "version": 3
   },
   "file_extension": ".py",
   "mimetype": "text/x-python",
   "name": "python",
   "nbconvert_exporter": "python",
   "pygments_lexer": "ipython3",
   "version": "3.9.4"
  }
 },
 "nbformat": 4,
 "nbformat_minor": 4
}
