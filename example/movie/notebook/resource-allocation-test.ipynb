{
 "cells": [
  {
   "cell_type": "markdown",
   "metadata": {},
   "source": [
    "# Memory and resource deallocation test.\n",
    "\n",
    "This notebook uses the NER example code to test for resource leaks.  Please see the `ner.ipynb` for the actual NER notebook example."
   ]
  },
  {
   "cell_type": "code",
   "execution_count": null,
   "metadata": {},
   "outputs": [],
   "source": [
    "class NotebookHarness(object):\n",
    "    \"\"\"Configure the Jupyter notebook environment and create model resources.\"\"\"\n",
    "    def __init__(self, app_root_dir: str = '..', deepnlp_path: str = '../../../src/python'):\n",
    "        \"\"\"Set up the interpreter environment so we can import local packages.\n",
    "        \n",
    "        :param app_root_dir: the application root directory\n",
    "        :param deepnlp_path: the path to the DeepNLP source code\n",
    "        \"\"\"\n",
    "        import sys\n",
    "        from pathlib import Path\n",
    "        self.app_root_dir = Path(app_root_dir)\n",
    "        # add the example to the Python library path\n",
    "        sys.path.append(str(self.app_root_dir / 'src'))\n",
    "        # add the deepnlp path\n",
    "        sys.path.append(deepnlp_path)\n",
    "        # reset random state for consistency before any other packages are imported\n",
    "        from zensols.deepnlp import init as nlp_init\n",
    "        nlp_init()\n",
    "\n",
    "    def __call__(self, cuda_device_index: int = None, temporary_dir_name: str = None):\n",
    "        \"\"\"Create and return an instance a :class:`.JupyterManager`.\n",
    "        \n",
    "        :param cuda_device_index: the CUDA (GPU) device to use\n",
    "        :param temporary_dir_name: the temporary directory to use for temporary space and results\n",
    "        \"\"\"\n",
    "        from zensols.deeplearn.cli import JupyterManager\n",
    "        from movie import CliFactory\n",
    "        factory_args = {'root_dir': self.app_root_dir}\n",
    "        if temporary_dir_name is not None:\n",
    "            factory_args['temporary_dir'] = self.app_root_dir / temporary_dir_name\n",
    "        mng = JupyterManager(\n",
    "            allocation_tracking=True,\n",
    "            cli_class=CliFactory,\n",
    "            factory_args=factory_args,\n",
    "            cli_args_fn=lambda model: ['-c', str(self.app_root_dir / 'models' / f'{model}.conf')])\n",
    "        if cuda_device_index is not None:\n",
    "            # tell which GPU to use\n",
    "            mng.config('gpu_torch_config', cuda_device_index=cuda_device_index)\n",
    "        return mng\n",
    "\n",
    "\n",
    "harness = NotebookHarness()\n",
    "mng = harness()\n",
    "# number of epochs to test with, which needs to be at least two to excercise it properly\n",
    "mng.config('model_settings', epochs=2)\n",
    "# if a memory leak test fails, set to False for that test\n",
    "keep_going = True"
   ]
  },
  {
   "cell_type": "code",
   "execution_count": null,
   "metadata": {
    "scrolled": false
   },
   "outputs": [],
   "source": [
    "from io import StringIO\n",
    "facade = mng.create_facade('glove50')\n",
    "# write to force more allocation to test deallocation, but don't clutter the notebook output\n",
    "facade.write(writer=StringIO())\n",
    "mng.run(False)"
   ]
  },
  {
   "cell_type": "code",
   "execution_count": null,
   "metadata": {
    "scrolled": true
   },
   "outputs": [],
   "source": [
    "if keep_going:\n",
    "    facade.embedding = 'glove_300_embedding'\n",
    "    mng.run(False)\n",
    "    mng.show_leaks()"
   ]
  },
  {
   "cell_type": "code",
   "execution_count": null,
   "metadata": {
    "scrolled": true
   },
   "outputs": [],
   "source": [
    "if keep_going:\n",
    "    facade = mng.create_facade('transformer-fixed')\n",
    "    mng.run(False)"
   ]
  },
  {
   "cell_type": "code",
   "execution_count": null,
   "metadata": {
    "scrolled": false
   },
   "outputs": [],
   "source": [
    "if keep_going:\n",
    "    facade = mng.create_facade('transformer-trainable')\n",
    "    mng.run(False)\n",
    "    mng.show_leaks()"
   ]
  }
 ],
 "metadata": {
  "kernelspec": {
   "display_name": "Python 3",
   "language": "python",
   "name": "python3"
  },
  "language_info": {
   "codemirror_mode": {
    "name": "ipython",
    "version": 3
   },
   "file_extension": ".py",
   "mimetype": "text/x-python",
   "name": "python",
   "nbconvert_exporter": "python",
   "pygments_lexer": "ipython3",
   "version": "3.9.4"
  }
 },
 "nbformat": 4,
 "nbformat_minor": 4
}
