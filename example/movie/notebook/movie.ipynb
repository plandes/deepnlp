{
 "cells": [
  {
   "cell_type": "markdown",
   "metadata": {},
   "source": [
    "# Deep learning framework example: Movie Review Dataset\n",
    "\n",
    "This notebook demonstrates how to use the deeplearning API to train and test the model on the [MNIST dataset](http://yann.lecun.com/exdb/mnist/).  This dataset contains hand written digits and their labels.\n",
    "\n",
    "Before you run this notebook, you must ensure the corpus is installed.  Please see the `README.md` file for more information.\n",
    "\n",
    "**Important**: Please see the Iris notebook example in the `zensols.deeplearn` API first, as it contains more explaination of how the framework is used.  The purpose of this notebook is to run the MNIST dataset and visualize the results."
   ]
  },
  {
   "cell_type": "code",
   "execution_count": 1,
   "metadata": {},
   "outputs": [],
   "source": [
    "# set up notebook environment\n",
    "import sys\n",
    "app_root_dir = '..'\n",
    "sys.path.append(app_root_dir + '/src')\n",
    "# add the deepnlp path\n",
    "sys.path.append('../../../src/python')"
   ]
  },
  {
   "cell_type": "markdown",
   "metadata": {},
   "source": [
    "## Configure and create the app specific facade\n",
    "\n",
    "Now that the interpreter environment is set up, we can import local packages."
   ]
  },
  {
   "cell_type": "code",
   "execution_count": 2,
   "metadata": {},
   "outputs": [],
   "source": [
    "import logging\n",
    "from zensols.config import ImportConfigFactory\n",
    "from zensols.deeplearn import TorchConfig\n",
    "from movie import AppConfig, ReviewModelFacade\n",
    "\n",
    "# set the random seed so things are predictable\n",
    "TorchConfig.set_random_seed()\n",
    "\n",
    "# configure the environment\n",
    "config = AppConfig(config_file=app_root_dir + '/resources/movie.conf', env={'app_root': app_root_dir})\n",
    "\n",
    "def create_facade():\n",
    "    \"\"\"Create and return a facade with columns that fit a notebook.\n",
    " \n",
    "    \"\"\"\n",
    "    # create a factoty that instantiates Python objects using a simple configuration (INI)\n",
    "    facade = ReviewModelFacade(config)\n",
    "    # set console based logging\n",
    "    facade.configure_jupyter(logging.WARNING)\n",
    "    return facade"
   ]
  },
  {
   "cell_type": "markdown",
   "metadata": {},
   "source": [
    "## Print information about \n",
    "\n",
    "Use the factory to create the model executor.  The `write` method gives statistics on the data set that is configured on the executor."
   ]
  },
  {
   "cell_type": "code",
   "execution_count": 3,
   "metadata": {
    "scrolled": false
   },
   "outputs": [
    {
     "name": "stdout",
     "output_type": "stream",
     "text": [
      "executor:\n",
      "  model: Review\n",
      "  feature splits:\n",
      "    split stash splits:\n"
     ]
    },
    {
     "name": "stderr",
     "output_type": "stream",
     "text": [
      "2021-03-18 17:06:08,209[INFO]zensols.multi.stash: feature_factory_stash: spawning work with chunk size 1402 across 8 workers\n"
     ]
    },
    {
     "name": "stdout",
     "output_type": "stream",
     "text": [
      "        dev: 1029 (9.2%)\n",
      "        test: 2099 (18.7%)\n",
      "        train: 8086 (72.1%)\n",
      "        total: 11214\n"
     ]
    },
    {
     "name": "stderr",
     "output_type": "stream",
     "text": [
      "2021-03-18 17:06:08,304[INFO]zensols.multi.stash: factory inst feature_factory_stash for chunk 2 in 0s\n",
      "2021-03-18 17:06:08,303[INFO]zensols.multi.stash: factory inst feature_factory_stash for chunk 0 in 0s\n",
      "2021-03-18 17:06:08,306[INFO]zensols.multi.stash: processing chunk 2 with stash <class 'movie.domain.ReviewFeatureStash'>\n",
      "2021-03-18 17:06:08,306[INFO]zensols.multi.stash: processing chunk 0 with stash <class 'movie.domain.ReviewFeatureStash'>\n",
      "2021-03-18 17:06:08,306[INFO]zensols.multi.stash: factory inst feature_factory_stash for chunk 1 in 0s\n",
      "2021-03-18 17:06:08,310[INFO]zensols.multi.stash: processing chunk 1 with stash <class 'movie.domain.ReviewFeatureStash'>\n",
      "2021-03-18 17:06:08,309[INFO]zensols.multi.stash: factory inst feature_factory_stash for chunk 3 in 0s\n",
      "2021-03-18 17:06:08,312[INFO]zensols.multi.stash: factory inst feature_factory_stash for chunk 4 in 0s\n",
      "2021-03-18 17:06:08,315[INFO]zensols.multi.stash: processing chunk 3 with stash <class 'movie.domain.ReviewFeatureStash'>\n",
      "2021-03-18 17:06:08,316[INFO]zensols.multi.stash: processing chunk 4 with stash <class 'movie.domain.ReviewFeatureStash'>\n",
      "2021-03-18 17:06:08,317[INFO]zensols.multi.stash: factory inst feature_factory_stash for chunk 6 in 0s\n",
      "2021-03-18 17:06:08,317[INFO]zensols.multi.stash: factory inst feature_factory_stash for chunk 5 in 0s\n",
      "2021-03-18 17:06:08,322[INFO]zensols.multi.stash: processing chunk 5 with stash <class 'movie.domain.ReviewFeatureStash'>\n",
      "2021-03-18 17:06:08,323[INFO]zensols.multi.stash: factory inst feature_factory_stash for chunk 7 in 0s\n",
      "2021-03-18 17:06:08,323[INFO]zensols.multi.stash: processing chunk 6 with stash <class 'movie.domain.ReviewFeatureStash'>\n",
      "2021-03-18 17:06:08,326[INFO]zensols.multi.stash: processing chunk 7 with stash <class 'movie.domain.ReviewFeatureStash'>\n",
      "2021-03-18 17:06:38,699[INFO]zensols.multi.stash: processed 1402 items for chunk 5 in 30s\n",
      "2021-03-18 17:06:38,706[INFO]zensols.multi.stash: processed chunk feature_factory_stash (5): data: str in 30s\n",
      "2021-03-18 17:06:40,371[INFO]zensols.multi.stash: processed 1400 items for chunk 7 in 32s\n",
      "2021-03-18 17:06:40,375[INFO]zensols.multi.stash: processed chunk feature_factory_stash (7): data: str in 32s\n",
      "2021-03-18 17:06:40,705[INFO]zensols.multi.stash: processed 1402 items for chunk 6 in 32s\n",
      "2021-03-18 17:06:40,709[INFO]zensols.multi.stash: processed chunk feature_factory_stash (6): data: str in 32s\n",
      "2021-03-18 17:06:40,868[INFO]zensols.multi.stash: processed 1402 items for chunk 0 in 32s\n",
      "2021-03-18 17:06:40,872[INFO]zensols.multi.stash: processed chunk feature_factory_stash (0): data: str in 32s\n",
      "2021-03-18 17:06:41,043[INFO]zensols.multi.stash: processed 1402 items for chunk 2 in 32s\n",
      "2021-03-18 17:06:41,046[INFO]zensols.multi.stash: processed chunk feature_factory_stash (2): data: str in 32s\n",
      "2021-03-18 17:06:41,058[INFO]zensols.multi.stash: processed 1402 items for chunk 4 in 32s\n",
      "2021-03-18 17:06:41,062[INFO]zensols.multi.stash: processed chunk feature_factory_stash (4): data: str in 32s\n",
      "2021-03-18 17:06:41,115[INFO]zensols.multi.stash: processed 1402 items for chunk 1 in 32s\n",
      "2021-03-18 17:06:41,118[INFO]zensols.multi.stash: processed chunk feature_factory_stash (1): data: str in 32s\n",
      "2021-03-18 17:06:41,198[INFO]zensols.multi.stash: processed 1402 items for chunk 3 in 32s\n",
      "2021-03-18 17:06:41,201[INFO]zensols.multi.stash: processed chunk feature_factory_stash (3): data: str in 32s\n",
      "2021-03-18 17:06:41,203[INFO]zensols.multi.stash: processed chunks in 32s\n",
      "2021-03-18 17:06:41,233[INFO]zensols.multi.stash: completed work in ReviewFeatureStash in 33s\n",
      "2021-03-18 17:06:41,809[INFO]zensols.multi.stash: batch_stash: spawning work with chunk size 20 across 3 workers\n"
     ]
    },
    {
     "name": "stdout",
     "output_type": "stream",
     "text": [
      "    total this instance: 11214\n",
      "    keys consistent: True\n",
      "  batch splits:\n",
      "    split stash splits:\n",
      "        dev: 6 (10.3%)\n",
      "        test: 11 (19.0%)\n",
      "        train: 41 (70.7%)\n",
      "        total: 58\n"
     ]
    },
    {
     "name": "stderr",
     "output_type": "stream",
     "text": [
      "2021-03-18 17:06:41,857[INFO]zensols.multi.stash: factory inst batch_stash for chunk 0 in 0s\n",
      "2021-03-18 17:06:41,859[INFO]zensols.multi.stash: processing chunk 0 with stash <class 'zensols.deeplearn.batch.stash.BatchStash'>\n",
      "2021-03-18 17:06:41,859[INFO]zensols.multi.stash: factory inst batch_stash for chunk 2 in 0s\n",
      "2021-03-18 17:06:41,861[INFO]zensols.multi.stash: processing chunk 2 with stash <class 'zensols.deeplearn.batch.stash.BatchStash'>\n",
      "2021-03-18 17:06:41,861[INFO]zensols.multi.stash: factory inst batch_stash for chunk 1 in 0s\n",
      "2021-03-18 17:06:41,863[INFO]zensols.multi.stash: processing chunk 1 with stash <class 'zensols.deeplearn.batch.stash.BatchStash'>\n",
      "2021-03-18 17:06:42,216[INFO]zensols.deepnlp.embed.wordtext: reading binary vector file: ../corpus/glove/bin/6B.300/vec\n",
      "2021-03-18 17:06:42,219[INFO]zensols.deepnlp.embed.wordtext: reading binary vector file: ../corpus/glove/bin/6B.300/vec\n",
      "2021-03-18 17:06:42,224[INFO]zensols.deepnlp.embed.wordtext: reading binary vector file: ../corpus/glove/bin/6B.300/vec\n",
      "2021-03-18 17:06:43,571[INFO]zensols.deepnlp.embed.wordtext: loaded 400000 vectors in 1s\n",
      "2021-03-18 17:06:43,571[INFO]zensols.deepnlp.embed.wordtext: loaded 400000 vectors in 1s\n",
      "2021-03-18 17:06:43,571[INFO]zensols.deepnlp.embed.wordtext: loaded 400000 vectors in 1s\n",
      "2021-03-18 17:06:44,109[INFO]zensols.deepnlp.embed.wordtext: prepared vectors in 0s\n",
      "2021-03-18 17:06:44,110[INFO]zensols.deepnlp.embed.wordtext: prepared vectors in 0s\n",
      "2021-03-18 17:06:44,110[INFO]zensols.deepnlp.embed.wordtext: prepared vectors in 0s\n",
      "2021-03-18 17:06:44,222[INFO]zensols.deepnlp.embed.word2vec: reading binary vector file\n",
      "2021-03-18 17:06:44,227[INFO]zensols.deepnlp.embed.word2vec: reading binary vector file\n",
      "2021-03-18 17:06:44,228[INFO]zensols.deepnlp.embed.word2vec: reading binary vector file\n",
      "2021-03-18 17:06:44,228[INFO]zensols.deepnlp.embed.word2vec: loading keyed file: ../corpus/word2vec/GoogleNews-vectors-negative300.bin\n",
      "2021-03-18 17:06:44,229[INFO]zensols.deepnlp.embed.word2vec: loading keyed file: ../corpus/word2vec/GoogleNews-vectors-negative300.bin\n",
      "2021-03-18 17:06:44,229[INFO]zensols.deepnlp.embed.word2vec: loading keyed file: ../corpus/word2vec/GoogleNews-vectors-negative300.bin\n",
      "2021-03-18 17:08:38,171[INFO]zensols.deepnlp.embed.word2vec: loaded key model from /home/landes/view/nlp/deepnlp/example/movie/notebook/../corpus/word2vec/GoogleNews-vectors-negative300.bin in 1 minute, 53s\n",
      "2021-03-18 17:08:38,172[INFO]zensols.deepnlp.embed.word2vec: loaded word2vec model in 1 minute, 53s\n",
      "2021-03-18 17:08:38,335[INFO]zensols.deepnlp.embed.word2vec: loaded key model from /home/landes/view/nlp/deepnlp/example/movie/notebook/../corpus/word2vec/GoogleNews-vectors-negative300.bin in 1 minute, 54s\n",
      "2021-03-18 17:08:38,336[INFO]zensols.deepnlp.embed.word2vec: loaded word2vec model in 1 minute, 54s\n",
      "2021-03-18 17:08:38,555[INFO]zensols.deepnlp.embed.word2vec: loaded key model from /home/landes/view/nlp/deepnlp/example/movie/notebook/../corpus/word2vec/GoogleNews-vectors-negative300.bin in 1 minute, 54s\n",
      "2021-03-18 17:08:38,556[INFO]zensols.deepnlp.embed.word2vec: loaded word2vec model in 1 minute, 54s\n",
      "2021-03-18 17:08:51,277[INFO]zensols.deepnlp.embed.word2vec: created data structures in 12s\n",
      "2021-03-18 17:08:51,396[INFO]zensols.deepnlp.embed.word2vec: created data structures in 13s\n",
      "2021-03-18 17:08:51,942[INFO]zensols.deepnlp.embed.word2vec: created data structures in 13s\n",
      "2021-03-18 17:09:09,297[INFO]zensols.multi.stash: processed 18 items for chunk 2 in 2 minutes, 27s\n",
      "2021-03-18 17:09:09,302[INFO]zensols.multi.stash: processed chunk batch_stash (2): data: DataPointIDSet in 2 minutes, 27s\n",
      "2021-03-18 17:09:11,388[INFO]zensols.multi.stash: processed 20 items for chunk 0 in 2 minutes, 29s\n",
      "2021-03-18 17:09:11,392[INFO]zensols.multi.stash: processed chunk batch_stash (0): data: DataPointIDSet in 2 minutes, 29s\n",
      "2021-03-18 17:09:11,772[INFO]zensols.multi.stash: processed 20 items for chunk 1 in 2 minutes, 29s\n",
      "2021-03-18 17:09:11,776[INFO]zensols.multi.stash: processed chunk batch_stash (1): data: DataPointIDSet in 2 minutes, 29s\n",
      "2021-03-18 17:09:11,778[INFO]zensols.multi.stash: processed chunks in 2 minutes, 29s\n",
      "2021-03-18 17:09:12,575[INFO]zensols.multi.stash: completed work in BatchStash in 2 minutes, 30s\n",
      "2021-03-18 17:09:12,593[INFO]zensols.deeplearn.model.executor.status: created model on cpu with use cuda: True, device: cuda:0\n"
     ]
    },
    {
     "name": "stdout",
     "output_type": "stream",
     "text": [
      "    total this instance: 58\n",
      "    keys consistent: True\n",
      "    delegate:\n",
      "      name: batch_stash\n",
      "      chunk_size: 0\n",
      "      workers: 3\n",
      "      batch_size: 200\n",
      "      data_point_id_sets_path: ../data/batch/batch-point-keys.dat\n",
      "      batch_limit: 9223372036854775807\n",
      "      delegate_attr: True\n",
      "      _has_data: True\n",
      "      is_child: False\n",
      "      _decoded_attributes: {'label', 'glove_50_embedding'}\n",
      "      priming: False\n",
      "  network settings:\n",
      "    name: net_settings\n",
      "    dropout: 0.2\n",
      "    recurrent_settings:\n",
      "      name: recurrent_settings\n",
      "      dropout: 0.2\n",
      "      network_type: lstm\n",
      "      aggregation: max\n",
      "      bidirectional: True\n",
      "      hidden_size: 36\n",
      "      num_layers: 1\n",
      "    linear_settings:\n",
      "      name: linear_settings\n",
      "      dropout: 0.2\n",
      "      out_features: 2\n",
      "      middle_features:\n",
      "        10\n",
      "      proportions: True\n",
      "      repeats: 1\n",
      "  model settings:\n",
      "    name: model_settings\n",
      "    path: ../target/model\n",
      "    learning_rate: 0.001\n",
      "    epochs: 3\n",
      "    max_consecutive_increased_count: 9223372036854775807\n",
      "    nominal_labels: True\n",
      "    reduce_outcomes: argmax\n",
      "    shuffle_training: False\n",
      "    batch_limit: 9223372036854775807\n",
      "    batch_iteration: gpu\n",
      "    cache_batches: True\n",
      "    gc_level: 0\n",
      "    batch_iteration_class_name: zensols.deeplearn.model.BatchIterator\n",
      "    criterion_class_name: torch.nn.CrossEntropyLoss\n",
      "    optimizer_class_name: torch.optim.Adam\n",
      "  model:\n",
      "    ReviewNetwork(\n",
      "      (dropout): Dropout(p=0.2, inplace=False)\n",
      "      (embedding): WordVectorEmbeddingLayer(\n",
      "        (emb): Embedding(400001, 50)\n",
      "      )\n",
      "      (recur): RecurrentAggregation(\n",
      "        (dropout): Dropout(p=0.2, inplace=False)\n",
      "        (rnn): LSTM(50, 18, batch_first=True, dropout=0.2, bidirectional=True)\n",
      "      )\n",
      "      (fc_deep): DeepLinear(\n",
      "        (dropout): Dropout(p=0.2, inplace=False)\n",
      "        (lin_layers): Sequential(\n",
      "          (0): Linear(in_features=36, out_features=360, bias=True)\n",
      "          (1): Linear(in_features=360, out_features=2, bias=True)\n",
      "        )\n",
      "      )\n",
      "    )\n",
      "    metadata:\n",
      "  data point: <class 'movie.domain.ReviewDataPoint'>\n",
      "  batch: <class 'movie.domain.ReviewBatch'>\n",
      "  mapping:\n",
      "    label: label\n",
      "      label_vectorizer_manager\n",
      "        FieldFeatureMapping(attr='label', feature_id='rvlabel', is_agg=True, attr_access=None, add_dim=None)\n",
      "      language_feature_manager\n",
      "        FieldFeatureMapping(attr='glove_50_embedding', feature_id='wvglove50', is_agg=False, attr_access='doc', add_dim=None)\n",
      "        FieldFeatureMapping(attr='glove_300_embedding', feature_id='wvglove300', is_agg=False, attr_access='doc', add_dim=None)\n",
      "        FieldFeatureMapping(attr='word2vec_300_embedding', feature_id='w2v300', is_agg=False, attr_access='doc', add_dim=None)\n",
      "        FieldFeatureMapping(attr='bert_embedding', feature_id='bert', is_agg=False, attr_access='doc', add_dim=None)\n",
      "        FieldFeatureMapping(attr='stats', feature_id='stats', is_agg=False, attr_access='doc', add_dim=0)\n",
      "        FieldFeatureMapping(attr='enums', feature_id='enum', is_agg=False, attr_access='doc', add_dim=0)\n",
      "        FieldFeatureMapping(attr='counts', feature_id='count', is_agg=False, attr_access='doc', add_dim=0)\n",
      "        FieldFeatureMapping(attr='dependencies', feature_id='dep', is_agg=False, attr_access='doc', add_dim=0)\n",
      "  attributes:\n",
      "    label\n",
      "      field:\n",
      "        FieldFeatureMapping(attr='label', feature_id='rvlabel', is_agg=True, attr_access=None, add_dim=None)\n",
      "      vectorizer:\n",
      "        rvlabel (nominal encoder), shape: (1, 2)\n",
      "    glove_50_embedding\n",
      "      field:\n",
      "        FieldFeatureMapping(attr='glove_50_embedding', feature_id='wvglove50', is_agg=False, attr_access='doc', add_dim=None)\n",
      "      vectorizer:\n",
      "        wvglove50 (word vector sentence), feature type: EMBEDDING, token length: 56, shape: (56, 50)\n"
     ]
    }
   ],
   "source": [
    "from zensols.config import Writable\n",
    "# set indention level for human readable (pretty print like) output\n",
    "Writable.WRITABLE_INDENT_SPACE = 2\n",
    "facade = create_facade()\n",
    "facade.write()"
   ]
  },
  {
   "cell_type": "markdown",
   "metadata": {},
   "source": [
    "## Train and test the model\n",
    "\n",
    "Train and test the model with the default (low) number of epochs to make sure everything is working."
   ]
  },
  {
   "cell_type": "code",
   "execution_count": 4,
   "metadata": {},
   "outputs": [
    {
     "name": "stderr",
     "output_type": "stream",
     "text": [
      "2021-03-18 17:09:12,605[INFO]zensols.deeplearn.model.executor.status: resetting executor\n",
      "2021-03-18 17:09:12,606[INFO]zensols.deeplearn.model.facade: training...\n",
      "2021-03-18 17:09:12,608[INFO]zensols.deeplearn.model.executor.status: batch iteration: gpu, limit: 9223372036854775807, caching: True, cached: 0\n",
      "2021-03-18 17:09:15,518[INFO]zensols.deeplearn.model.executor.status: loaded 47 batches in 2s\n",
      "2021-03-18 17:09:15,519[INFO]zensols.deeplearn.model.executor.status: train/test sets: 41 6\n",
      "2021-03-18 17:09:15,523[INFO]zensols.deeplearn.model.executor.status: created model on cpu with use cuda: True, device: cuda:0\n",
      "2021-03-18 17:09:15,538[INFO]zensols.deeplearn.model.executor.status: training model <class 'movie.model.ReviewNetwork'> on cuda:0 for 2 epochs using learning rate 0.001\n",
      "  0%|                                                                                             | 0/2 [00:00<?, ?it/s]2021-03-18 17:09:15,542[INFO]zensols.deeplearn.model.executor.status: watching update file ../target/update.json\n",
      "tr:165.144|va min:123.328|va:119.537 \\/: 100%|████████████████████████████████████████████| 2/2 [00:02<00:00,  1.21s/it]2021-03-18 17:09:17,970[INFO]zensols.deeplearn.model.executor.status: epoch threshold reached at 2\n",
      "2021-03-18 17:09:17,970[INFO]zensols.deeplearn.model.executor.status: final minimum validation loss: 119.53734560807546, 2 decreases\n",
      "2021-03-18 17:09:17,993[INFO]zensols.deeplearn.model.executor.status: executed train in 2s\n",
      "2021-03-18 17:09:17,993[INFO]zensols.deeplearn.model.executor.status: deallocating 47 batches\n",
      "2021-03-18 17:09:17,997[INFO]zensols.deeplearn.model.facade: trained in 5s\n",
      "2021-03-18 17:09:17,998[INFO]zensols.deeplearn.model.executor.status: reloading model weights\n",
      "2021-03-18 17:09:18,016[INFO]zensols.deeplearn.model.executor.status: created model on cpu with use cuda: True, device: cuda:0\n",
      "tr:165.144|va min:123.328|va:119.537 \\/: 100%|████████████████████████████████████████████| 2/2 [00:02<00:00,  1.24s/it]\n",
      "2021-03-18 17:09:18,045[INFO]zensols.deeplearn.model.facade: testing...\n",
      "2021-03-18 17:09:18,046[INFO]zensols.deeplearn.model.executor.status: batch iteration: gpu, limit: 9223372036854775807, caching: True, cached: 1\n",
      "2021-03-18 17:09:18,267[INFO]zensols.deeplearn.model.executor.status: loaded 11 batches in 0s\n",
      "2021-03-18 17:09:18,268[INFO]zensols.deeplearn.model.executor.status: train/test sets: 11\n",
      "2021-03-18 17:09:18,283[INFO]zensols.deeplearn.model.executor.status: testing model <class 'movie.model.ReviewNetwork'> on cuda:0\n",
      "2021-03-18 17:09:18,335[INFO]zensols.deeplearn.model.executor.status: executed test in 0s\n",
      "2021-03-18 17:09:18,336[INFO]zensols.deeplearn.model.executor.status: deallocating 11 batches\n",
      "2021-03-18 17:09:18,337[INFO]zensols.deeplearn.model.facade: trained in 0s\n",
      "2021-03-18 17:09:18,338[INFO]zensols.deeplearn.model.facade: load previous results\n"
     ]
    },
    {
     "name": "stdout",
     "output_type": "stream",
     "text": [
      "Name: Review: 1\n",
      "Run index: 2\n",
      "Learning rate: 0.001\n",
      "  train:\n",
      "    started: 03/18/2021 17:09:15:542741\n",
      "    ended: 03/18/2021 17:09:17:971438\n",
      "    batches: 41\n",
      "    ave data points per batch: 197.2\n",
      "    converged/epochs: 2/2\n",
      "    ave/min loss: 165.14428/54.16680\n",
      "    accuracy: 0.169 (1367/8086)\n",
      "    micro: F1: 0.169, precision: 0.169, recall: 0.169\n",
      "    macro: F1: 0.168, precision: 0.168, recall: 0.169\n",
      "    weighted: F1: 0.168, precision: 0.168, recall: 0.169\n",
      "  validation:\n",
      "    batches: 6\n",
      "    ave data points per batch: 171.5\n",
      "    converged/epochs: 2/2\n",
      "    ave/min loss: 119.53735/17.43206\n",
      "    accuracy: 0.498 (512/1029)\n",
      "    micro: F1: 0.498, precision: 0.498, recall: 0.498\n",
      "    macro: F1: 0.332, precision: 0.249, recall: 0.500\n",
      "    weighted: F1: 0.331, precision: 0.248, recall: 0.498\n",
      "  test:\n",
      "    started: 03/18/2021 17:09:18:284090\n",
      "    ended: 03/18/2021 17:09:18:335712\n",
      "    batches: 11\n",
      "    ave data points per batch: 190.8\n",
      "    converged/epochs: 1/1\n",
      "    ave/min loss: 132.70430/60.25941\n",
      "    accuracy: 0.507 (1064/2099)\n",
      "    micro: F1: 0.507, precision: 0.507, recall: 0.507\n",
      "    macro: F1: 0.336, precision: 0.253, recall: 0.500\n",
      "    weighted: F1: 0.341, precision: 0.257, recall: 0.507\n"
     ]
    },
    {
     "data": {
      "image/png": "[encoded data removed]",
      "text/plain": [
       "<Figure size 1080x360 with 1 Axes>"
      ]
     },
     "metadata": {
      "needs_background": "light"
     },
     "output_type": "display_data"
    }
   ],
   "source": [
    "facade.epochs = 2\n",
    "facade.train()\n",
    "facade.test()\n",
    "facade.write_result()\n",
    "facade.plot_result()\n",
    "facade.persist_result()"
   ]
  },
  {
   "cell_type": "markdown",
   "metadata": {},
   "source": [
    "## Tune hyperparameters\n",
    "\n",
    "Set model parameters to get a feel for where they need to be before changing features."
   ]
  },
  {
   "cell_type": "code",
   "execution_count": 5,
   "metadata": {},
   "outputs": [
    {
     "name": "stderr",
     "output_type": "stream",
     "text": [
      "2021-03-18 17:09:18,959[INFO]zensols.deeplearn.model.executor.status: resetting executor\n",
      "2021-03-18 17:09:18,960[INFO]zensols.deeplearn.model.facade: training...\n",
      "2021-03-18 17:09:18,961[INFO]zensols.deeplearn.model.executor.status: batch iteration: gpu, limit: 9223372036854775807, caching: True, cached: 2\n",
      "2021-03-18 17:09:18,962[INFO]zensols.deeplearn.model.executor.status: train/test sets: 41 6\n",
      "2021-03-18 17:09:18,980[INFO]zensols.deeplearn.model.executor.status: created model on cpu with use cuda: True, device: cuda:0\n",
      "2021-03-18 17:09:18,996[INFO]zensols.deeplearn.model.executor.status: training model <class 'movie.model.ReviewNetwork'> on cuda:0 for 70 epochs using learning rate 0.001\n",
      "  0%|                                                                                            | 0/70 [00:00<?, ?it/s]2021-03-18 17:09:18,998[INFO]zensols.deeplearn.model.executor.status: watching update file ../target/update.json\n",
      "tr:116.101|va min:93.001|va:93.195 /\\: 100%|████████████████████████████████████████████| 70/70 [01:53<00:00,  1.36s/it]2021-03-18 17:11:12,033[INFO]zensols.deeplearn.model.executor.status: epoch threshold reached at 70\n",
      "2021-03-18 17:11:12,034[INFO]zensols.deeplearn.model.executor.status: final minimum validation loss: 93.0011618733406, 51 decreases\n",
      "2021-03-18 17:11:12,503[INFO]zensols.deeplearn.model.executor.status: executed train in 1 minute, 53s\n",
      "2021-03-18 17:11:12,504[INFO]zensols.deeplearn.model.executor.status: deallocating 0 batches\n",
      "2021-03-18 17:11:12,505[INFO]zensols.deeplearn.model.facade: trained in 1 minute, 53s\n",
      "2021-03-18 17:11:12,505[INFO]zensols.deeplearn.model.executor.status: reloading model weights\n",
      "2021-03-18 17:11:12,523[INFO]zensols.deeplearn.model.executor.status: created model on cpu with use cuda: True, device: cuda:0\n",
      "tr:116.101|va min:93.001|va:93.195 /\\: 100%|████████████████████████████████████████████| 70/70 [01:53<00:00,  1.62s/it]\n",
      "2021-03-18 17:11:12,693[INFO]zensols.deeplearn.model.facade: testing...\n",
      "2021-03-18 17:11:12,694[INFO]zensols.deeplearn.model.executor.status: batch iteration: gpu, limit: 9223372036854775807, caching: True, cached: 2\n",
      "2021-03-18 17:11:12,694[INFO]zensols.deeplearn.model.executor.status: train/test sets: 11\n",
      "2021-03-18 17:11:12,710[INFO]zensols.deeplearn.model.executor.status: testing model <class 'movie.model.ReviewNetwork'> on cuda:0\n",
      "2021-03-18 17:11:12,763[INFO]zensols.deeplearn.model.executor.status: executed test in 0s\n",
      "2021-03-18 17:11:12,764[INFO]zensols.deeplearn.model.executor.status: deallocating 0 batches\n",
      "2021-03-18 17:11:12,764[INFO]zensols.deeplearn.model.facade: trained in 0s\n",
      "2021-03-18 17:11:12,765[INFO]zensols.deeplearn.model.facade: load previous results\n"
     ]
    },
    {
     "name": "stdout",
     "output_type": "stream",
     "text": [
      "Name: Review: 1\n",
      "Run index: 2\n",
      "Learning rate: 0.001\n",
      "  train:\n",
      "    started: 03/18/2021 17:09:18:999509\n",
      "    ended: 03/18/2021 17:11:12:034973\n",
      "    batches: 41\n",
      "    ave data points per batch: 197.2\n",
      "    converged/epochs: 68/70\n",
      "    ave/min loss: 115.23280/28.65804\n",
      "    accuracy: 0.682 (5516/8086)\n",
      "    micro: F1: 0.682, precision: 0.682, recall: 0.682\n",
      "    macro: F1: 0.681, precision: 0.686, recall: 0.682\n",
      "    weighted: F1: 0.681, precision: 0.686, recall: 0.682\n",
      "  validation:\n",
      "    batches: 6\n",
      "    ave data points per batch: 171.5\n",
      "    converged/epochs: 67/70\n",
      "    ave/min loss: 93.00116/13.02388\n",
      "    accuracy: 0.732 (753/1029)\n",
      "    micro: F1: 0.732, precision: 0.732, recall: 0.732\n",
      "    macro: F1: 0.731, precision: 0.737, recall: 0.732\n",
      "    weighted: F1: 0.730, precision: 0.737, recall: 0.732\n",
      "  test:\n",
      "    started: 03/18/2021 17:11:12:711042\n",
      "    ended: 03/18/2021 17:11:12:763327\n",
      "    batches: 11\n",
      "    ave data points per batch: 190.8\n",
      "    converged/epochs: 1/1\n",
      "    ave/min loss: 107.32888/47.19230\n",
      "    accuracy: 0.706 (1481/2099)\n",
      "    micro: F1: 0.706, precision: 0.706, recall: 0.706\n",
      "    macro: F1: 0.703, precision: 0.712, recall: 0.704\n",
      "    weighted: F1: 0.703, precision: 0.711, recall: 0.706\n"
     ]
    },
    {
     "data": {
      "text/plain": [
       "movie.model.ReviewNetwork (2)"
      ]
     },
     "execution_count": 5,
     "metadata": {},
     "output_type": "execute_result"
    },
    {
     "data": {
      "image/png": "[encoded data removed]",
      "text/plain": [
       "<Figure size 1080x360 with 1 Axes>"
      ]
     },
     "metadata": {
      "needs_background": "light"
     },
     "output_type": "display_data"
    }
   ],
   "source": [
    "facade.learning_rate = 0.001\n",
    "facade.epochs = 70\n",
    "facade.dropout = 0.3\n",
    "facade.train()\n",
    "facade.test()\n",
    "facade.write_result()\n",
    "facade.plot_result()"
   ]
  },
  {
   "cell_type": "code",
   "execution_count": 6,
   "metadata": {},
   "outputs": [
    {
     "name": "stderr",
     "output_type": "stream",
     "text": [
      "2021-03-18 17:11:13,070[INFO]zensols.deepnlp.embed.word2vec: reading binary vector file\n",
      "2021-03-18 17:11:13,071[INFO]zensols.deepnlp.embed.word2vec: loading keyed file: ../corpus/word2vec/GoogleNews-vectors-negative300.bin\n",
      "2021-03-18 17:13:01,573[INFO]zensols.deepnlp.embed.word2vec: loaded key model from /home/landes/view/nlp/deepnlp/example/movie/notebook/../corpus/word2vec/GoogleNews-vectors-negative300.bin in 1 minute, 48s\n",
      "2021-03-18 17:13:01,574[INFO]zensols.deepnlp.embed.word2vec: loaded word2vec model in 1 minute, 48s\n",
      "2021-03-18 17:13:13,346[INFO]zensols.deepnlp.embed.word2vec: created data structures in 11s\n",
      "2021-03-18 17:13:15,703[INFO]zensols.deepnlp.embed.domain: created tensor vectory matrix on use cuda: False, device: cpu\n",
      "2021-03-18 17:13:16,807[INFO]zensols.deeplearn.model.facade: clearing\n",
      "2021-03-18 17:13:16,823[INFO]zensols.deeplearn.model.facade: creating new executor\n",
      "2021-03-18 17:13:16,831[INFO]zensols.deepnlp.embed.domain: reusing already cached from use cuda: False, device: cpu\n",
      "2021-03-18 17:13:16,844[INFO]zensols.deeplearn.model.executor.status: resetting executor\n",
      "2021-03-18 17:13:16,844[INFO]zensols.deeplearn.model.facade: training...\n",
      "2021-03-18 17:13:16,859[INFO]zensols.deeplearn.model.executor.status: batch iteration: gpu, limit: 9223372036854775807, caching: True, cached: 0\n",
      "2021-03-18 17:13:21,916[INFO]zensols.deeplearn.model.executor.status: loaded 47 batches in 5s\n",
      "2021-03-18 17:13:21,917[INFO]zensols.deeplearn.model.executor.status: train/test sets: 41 6\n",
      "2021-03-18 17:13:21,922[INFO]zensols.deeplearn.model.executor.status: created model on cpu with use cuda: True, device: cuda:0\n",
      "2021-03-18 17:13:22,521[INFO]zensols.deeplearn.model.executor.status: training model <class 'movie.model.ReviewNetwork'> on cuda:0 for 60 epochs using learning rate 0.001\n",
      "  0%|                                                   | 0/60 [00:00<?, ?it/s]2021-03-18 17:13:22,524[INFO]zensols.deeplearn.model.executor.status: watching update file ../target/update.json\n",
      "tr:82.627|va min:84.310|va:87.127 /\\: 100%|████| 60/60 [01:25<00:00,  1.01s/it]2021-03-18 17:14:47,918[INFO]zensols.deeplearn.model.executor.status: epoch threshold reached at 60\n",
      "2021-03-18 17:14:47,918[INFO]zensols.deeplearn.model.executor.status: final minimum validation loss: 84.31029905378819, 39 decreases\n",
      "2021-03-18 17:14:48,180[INFO]zensols.deeplearn.model.executor.status: executed train in 1 minute, 26s\n",
      "2021-03-18 17:14:48,181[INFO]zensols.deeplearn.model.executor.status: deallocating 47 batches\n",
      "2021-03-18 17:14:48,185[INFO]zensols.deeplearn.model.facade: trained in 1 minute, 31s\n",
      "2021-03-18 17:14:48,185[INFO]zensols.deeplearn.model.executor.status: reloading model weights\n",
      "2021-03-18 17:14:49,755[INFO]zensols.deeplearn.model.executor.status: created model on cpu with use cuda: True, device: cuda:0\n",
      "tr:82.627|va min:84.310|va:87.127 /\\: 100%|████| 60/60 [01:27<00:00,  1.45s/it]\n",
      "2021-03-18 17:14:50,284[INFO]zensols.deeplearn.model.facade: testing...\n",
      "2021-03-18 17:14:50,284[INFO]zensols.deeplearn.model.executor.status: batch iteration: gpu, limit: 9223372036854775807, caching: True, cached: 1\n",
      "2021-03-18 17:14:51,268[INFO]zensols.deeplearn.model.executor.status: loaded 11 batches in 0s\n",
      "2021-03-18 17:14:51,268[INFO]zensols.deeplearn.model.executor.status: train/test sets: 11\n",
      "2021-03-18 17:14:52,036[INFO]zensols.deeplearn.model.executor.status: testing model <class 'movie.model.ReviewNetwork'> on cuda:0\n",
      "2021-03-18 17:14:52,095[INFO]zensols.deeplearn.model.executor.status: executed test in 0s\n",
      "2021-03-18 17:14:52,095[INFO]zensols.deeplearn.model.executor.status: deallocating 11 batches\n",
      "2021-03-18 17:14:52,097[INFO]zensols.deeplearn.model.facade: trained in 1s\n",
      "2021-03-18 17:14:52,098[INFO]zensols.deeplearn.model.facade: load previous results\n"
     ]
    },
    {
     "name": "stdout",
     "output_type": "stream",
     "text": [
      "Name: Review: 1\n",
      "Run index: 2\n",
      "Learning rate: 0.001\n",
      "  train:\n",
      "    started: 03/18/2021 17:13:22:524890\n",
      "    ended: 03/18/2021 17:14:47:919570\n",
      "    batches: 41\n",
      "    ave data points per batch: 197.2\n",
      "    converged/epochs: 60/60\n",
      "    ave/min loss: 82.62709/10.99606\n",
      "    accuracy: 0.796 (6438/8086)\n",
      "    micro: F1: 0.796, precision: 0.796, recall: 0.796\n",
      "    macro: F1: 0.795, precision: 0.802, recall: 0.796\n",
      "    weighted: F1: 0.795, precision: 0.802, recall: 0.796\n",
      "  validation:\n",
      "    batches: 6\n",
      "    ave data points per batch: 171.5\n",
      "    converged/epochs: 50/60\n",
      "    ave/min loss: 84.31030/8.87944\n",
      "    accuracy: 0.765 (787/1029)\n",
      "    micro: F1: 0.765, precision: 0.765, recall: 0.765\n",
      "    macro: F1: 0.764, precision: 0.769, recall: 0.765\n",
      "    weighted: F1: 0.764, precision: 0.769, recall: 0.765\n",
      "  test:\n",
      "    started: 03/18/2021 17:14:52:037898\n",
      "    ended: 03/18/2021 17:14:52:095198\n",
      "    batches: 11\n",
      "    ave data points per batch: 190.8\n",
      "    converged/epochs: 1/1\n",
      "    ave/min loss: 90.32838/36.03019\n",
      "    accuracy: 0.772 (1621/2099)\n",
      "    micro: F1: 0.772, precision: 0.772, recall: 0.772\n",
      "    macro: F1: 0.770, precision: 0.783, recall: 0.771\n",
      "    weighted: F1: 0.770, precision: 0.782, recall: 0.772\n"
     ]
    },
    {
     "data": {
      "image/png": "[encoded data removed]",
      "text/plain": [
       "<Figure size 1080x360 with 1 Axes>"
      ]
     },
     "metadata": {
      "needs_background": "light"
     },
     "output_type": "display_data"
    }
   ],
   "source": [
    "facade.epochs = 60\n",
    "facade.embedding = 'word2vec_300_embedding'\n",
    "facade.train()\n",
    "facade.test()\n",
    "facade.write_result()\n",
    "facade.plot_result()\n",
    "facade.persist_result()"
   ]
  },
  {
   "cell_type": "code",
   "execution_count": 7,
   "metadata": {},
   "outputs": [
    {
     "name": "stderr",
     "output_type": "stream",
     "text": [
      "2021-03-18 17:14:58,768[INFO]zensols.deeplearn.model.facade: clearing\n",
      "2021-03-18 17:14:58,778[INFO]zensols.deeplearn.model.facade: creating new executor\n",
      "2021-03-18 17:14:58,820[INFO]zensols.deeplearn.model.executor.status: resetting executor\n",
      "2021-03-18 17:14:58,820[INFO]zensols.deeplearn.model.facade: training...\n",
      "2021-03-18 17:14:58,834[INFO]zensols.deeplearn.model.executor.status: batch iteration: gpu, limit: 9223372036854775807, caching: True, cached: 0\n",
      "2021-03-18 17:18:34,453[INFO]zensols.deeplearn.model.executor.status: loaded 47 batches in 3 minutes, 35s\n",
      "2021-03-18 17:18:34,454[INFO]zensols.deeplearn.model.executor.status: train/test sets: 41 6\n",
      "2021-03-18 17:18:34,459[INFO]zensols.deeplearn.model.executor.status: created model on cpu with use cuda: True, device: cuda:0\n",
      "2021-03-18 17:18:34,461[INFO]zensols.deeplearn.model.executor.status: training model <class 'movie.model.ReviewNetwork'> on cuda:0 for 60 epochs using learning rate 0.001\n",
      "  0%|                                                   | 0/60 [00:00<?, ?it/s]2021-03-18 17:18:34,463[INFO]zensols.deeplearn.model.executor.status: watching update file ../target/update.json\n",
      "tr:44.079|va min:66.408|va:104.999 /\\: 100%|███| 60/60 [01:16<00:00,  1.02it/s]2021-03-18 17:19:50,732[INFO]zensols.deeplearn.model.executor.status: epoch threshold reached at 60\n",
      "2021-03-18 17:19:50,733[INFO]zensols.deeplearn.model.executor.status: final minimum validation loss: 66.40809809664886, 32 decreases\n",
      "2021-03-18 17:19:50,962[INFO]zensols.deeplearn.model.executor.status: executed train in 1 minute, 16s\n",
      "2021-03-18 17:19:50,963[INFO]zensols.deeplearn.model.executor.status: deallocating 47 batches\n",
      "2021-03-18 17:19:50,967[INFO]zensols.deeplearn.model.facade: trained in 4 minutes, 52s\n",
      "2021-03-18 17:19:50,969[INFO]zensols.deeplearn.model.executor.status: reloading model weights\n",
      "2021-03-18 17:19:50,972[INFO]zensols.deeplearn.model.executor.status: created model on cpu with use cuda: True, device: cuda:0\n",
      "tr:44.079|va min:66.408|va:104.999 /\\: 100%|███| 60/60 [01:16<00:00,  1.28s/it]\n",
      "2021-03-18 17:19:51,113[INFO]zensols.deeplearn.model.facade: testing...\n",
      "2021-03-18 17:19:51,114[INFO]zensols.deeplearn.model.executor.status: batch iteration: gpu, limit: 9223372036854775807, caching: True, cached: 1\n",
      "2021-03-18 17:20:40,584[INFO]zensols.deeplearn.model.executor.status: loaded 11 batches in 49s\n",
      "2021-03-18 17:20:40,585[INFO]zensols.deeplearn.model.executor.status: train/test sets: 11\n",
      "2021-03-18 17:20:40,588[INFO]zensols.deeplearn.model.executor.status: testing model <class 'movie.model.ReviewNetwork'> on cuda:0\n",
      "2021-03-18 17:20:40,708[INFO]zensols.deeplearn.model.executor.status: executed test in 0s\n",
      "2021-03-18 17:20:40,709[INFO]zensols.deeplearn.model.executor.status: deallocating 11 batches\n",
      "2021-03-18 17:20:40,711[INFO]zensols.deeplearn.model.facade: trained in 49s\n",
      "2021-03-18 17:20:40,712[INFO]zensols.deeplearn.model.facade: load previous results\n"
     ]
    },
    {
     "name": "stdout",
     "output_type": "stream",
     "text": [
      "Name: Review: 1\n",
      "Run index: 2\n",
      "Learning rate: 0.001\n",
      "  train:\n",
      "    started: 03/18/2021 17:18:34:464172\n",
      "    ended: 03/18/2021 17:19:50:734426\n",
      "    batches: 41\n",
      "    ave data points per batch: 197.2\n",
      "    converged/epochs: 60/60\n",
      "    ave/min loss: 44.07925/11.11773\n",
      "    accuracy: 0.895 (7241/8086)\n",
      "    micro: F1: 0.895, precision: 0.895, recall: 0.895\n",
      "    macro: F1: 0.895, precision: 0.901, recall: 0.896\n",
      "    weighted: F1: 0.895, precision: 0.901, recall: 0.895\n",
      "  validation:\n",
      "    batches: 6\n",
      "    ave data points per batch: 171.5\n",
      "    converged/epochs: 36/60\n",
      "    ave/min loss: 66.40810/7.06893\n",
      "    accuracy: 0.816 (840/1029)\n",
      "    micro: F1: 0.816, precision: 0.816, recall: 0.816\n",
      "    macro: F1: 0.815, precision: 0.825, recall: 0.817\n",
      "    weighted: F1: 0.815, precision: 0.825, recall: 0.816\n",
      "  test:\n",
      "    started: 03/18/2021 17:20:40:589048\n",
      "    ended: 03/18/2021 17:20:40:708126\n",
      "    batches: 11\n",
      "    ave data points per batch: 190.8\n",
      "    converged/epochs: 1/1\n",
      "    ave/min loss: 78.86705/30.34977\n",
      "    accuracy: 0.810 (1701/2099)\n",
      "    micro: F1: 0.810, precision: 0.810, recall: 0.810\n",
      "    macro: F1: 0.808, precision: 0.825, recall: 0.809\n",
      "    weighted: F1: 0.808, precision: 0.824, recall: 0.810\n"
     ]
    },
    {
     "data": {
      "text/plain": [
       "movie.model.ReviewNetwork (2)"
      ]
     },
     "execution_count": 7,
     "metadata": {},
     "output_type": "execute_result"
    },
    {
     "data": {
      "image/png": "[encoded data removed]",
      "text/plain": [
       "<Figure size 1080x360 with 1 Axes>"
      ]
     },
     "metadata": {
      "needs_background": "light"
     },
     "output_type": "display_data"
    }
   ],
   "source": [
    "facade.epochs = 60\n",
    "facade.embedding = 'bert_embedding'\n",
    "facade.train()\n",
    "facade.test()\n",
    "facade.write_result()\n",
    "facade.plot_result()"
   ]
  }
 ],
 "metadata": {
  "kernelspec": {
   "display_name": "Python 3",
   "language": "python",
   "name": "python3"
  },
  "language_info": {
   "codemirror_mode": {
    "name": "ipython",
    "version": 3
   },
   "file_extension": ".py",
   "mimetype": "text/x-python",
   "name": "python",
   "nbconvert_exporter": "python",
   "pygments_lexer": "ipython3",
   "version": "3.9.2"
  }
 },
 "nbformat": 4,
 "nbformat_minor": 4
}
