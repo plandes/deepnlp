{
 "cells": [
  {
   "cell_type": "markdown",
   "metadata": {},
   "source": [
    "# Deep learning framework example: Movie Review Dataset\n",
    "\n",
    "This notebook demonstrates how to use the deeplearning API to train and test the model on the [MNIST dataset](http://yann.lecun.com/exdb/mnist/).  This dataset contains hand written digits and their labels.\n",
    "\n",
    "Before you run this notebook, you must ensure the corpus is installed.  Please see the `README.md` file for more information.\n",
    "\n",
    "**Important**: Please see the Iris notebook example in the `zensols.deeplearn` API first, as it contains more explaination of how the framework is used.  The purpose of this notebook is to run the MNIST dataset and visualize the results."
   ]
  },
  {
   "cell_type": "code",
   "execution_count": 1,
   "metadata": {},
   "outputs": [],
   "source": [
    "# set up notebook environment\n",
    "import sys\n",
    "from pathlib import Path\n",
    "app_root_dir = Path('..')\n",
    "sys.path.append(str(app_root_dir / 'src'))\n",
    "# add the deepnlp path\n",
    "sys.path.append('../../../src/python')"
   ]
  },
  {
   "cell_type": "markdown",
   "metadata": {},
   "source": [
    "## Configure and create the app specific facade\n",
    "\n",
    "Now that the interpreter environment is set up, we can import local packages."
   ]
  },
  {
   "cell_type": "code",
   "execution_count": 2,
   "metadata": {},
   "outputs": [],
   "source": [
    "import logging\n",
    "from zensols.config import ImportConfigFactory\n",
    "from zensols.deeplearn import TorchConfig\n",
    "from zensols.deeplearn.batch import TorchMultiProcessStash\n",
    "from movie import CliFactory, ReviewModelFacade\n",
    "\n",
    "# set the random seed so things are predictable\n",
    "TorchConfig.set_random_seed()\n",
    "# tell PyTorch how to fork processes that can access the GPU\n",
    "TorchMultiProcessStash.init()\n",
    "\n",
    "# create a command line application factory\n",
    "cli_factory = CliFactory.instance(root_dir=app_root_dir)\n",
    "\n",
    "def create_facade():\n",
    "    \"\"\"Create and return a facade with columns that fit a notebook.\n",
    " \n",
    "    \"\"\"\n",
    "    # create a factoty that instantiates Python objects using a simple configuration (INI)\n",
    "    #facade = ReviewModelFacade(config)\n",
    "    facade = cli_factory.create_facade()\n",
    "    # set console based logging\n",
    "    facade.configure_jupyter(logging.WARNING)\n",
    "    return facade"
   ]
  },
  {
   "cell_type": "markdown",
   "metadata": {},
   "source": [
    "## Print information about \n",
    "\n",
    "Use the factory to create the model executor.  The `write` method gives statistics on the data set that is configured on the executor."
   ]
  },
  {
   "cell_type": "code",
   "execution_count": 3,
   "metadata": {
    "scrolled": false
   },
   "outputs": [
    {
     "name": "stdout",
     "output_type": "stream",
     "text": [
      "executor:\n",
      "  model: Review\n",
      "  feature splits:\n",
      "    split stash splits:\n"
     ]
    },
    {
     "name": "stderr",
     "output_type": "stream",
     "text": [
      "2021-04-07 18:26:20,010 [zensols.multi.stash] feature_factory_stash: spawning work with chunk size 1402 across 8 workers\n"
     ]
    },
    {
     "name": "stdout",
     "output_type": "stream",
     "text": [
      "        dev: 1029 (9.2%)\n",
      "        test: 2099 (18.7%)\n",
      "        train: 8086 (72.1%)\n",
      "        total: 11214\n"
     ]
    },
    {
     "name": "stderr",
     "output_type": "stream",
     "text": [
      "2021-04-07 18:27:01,122 [zensols.multi.stash] processed chunks in 40s\n",
      "2021-04-07 18:27:01,353 [zensols.multi.stash] completed work in ReviewFeatureStash in 41s\n",
      "2021-04-07 18:27:01,912 [zensols.deeplearn.batch.multi] batch_stash: spawning work with chunk size 20 across 3 workers\n"
     ]
    },
    {
     "name": "stdout",
     "output_type": "stream",
     "text": [
      "    total this instance: 11214\n",
      "    keys consistent: True\n",
      "  batch splits:\n",
      "    split stash splits:\n",
      "        dev: 6 (10.3%)\n",
      "        test: 11 (19.0%)\n",
      "        train: 41 (70.7%)\n",
      "        total: 58\n"
     ]
    },
    {
     "name": "stderr",
     "output_type": "stream",
     "text": [
      "2021-04-07 18:27:01,973 [zensols.deeplearn.batch.multi] using torch multiproc pool: <multiprocessing.pool.Pool state=RUN pool_size=3>\n",
      "2021-04-07 18:28:43,521 [zensols.deeplearn.batch.multi] processed chunks in 1 minute, 41s\n",
      "2021-04-07 18:28:44,246 [zensols.multi.stash] completed work in BatchStash in 1 minute, 42s\n",
      "2021-04-07 18:28:44,284 [zensols.deeplearn.model.executor.status] created model on cpu with use cuda: True, device: cuda:0\n"
     ]
    },
    {
     "name": "stdout",
     "output_type": "stream",
     "text": [
      "    total this instance: 58\n",
      "    keys consistent: True\n",
      "    delegate:\n",
      "      name: batch_stash\n",
      "      chunk_size: 0\n",
      "      workers: 3\n",
      "      batch_size: 200\n",
      "      data_point_id_sets_path: ../data/batch/batch-point-keys.dat\n",
      "      batch_limit: 9223372036854775807\n",
      "      delegate_attr: True\n",
      "      _has_data: True\n",
      "      is_child: False\n",
      "      _decoded_attributes: {'glove_50_embedding', 'label'}\n",
      "      priming: False\n",
      "  network settings:\n",
      "    name: net_settings\n",
      "    dropout: 0.2\n",
      "    recurrent_settings:\n",
      "      name: recurrent_settings\n",
      "      dropout: 0.2\n",
      "      network_type: lstm\n",
      "      aggregation: max\n",
      "      bidirectional: True\n",
      "      hidden_size: 36\n",
      "      num_layers: 1\n",
      "    linear_settings:\n",
      "      name: linear_settings\n",
      "      dropout: 0.2\n",
      "      out_features: 2\n",
      "      middle_features:\n",
      "        10\n",
      "      proportions: True\n",
      "      repeats: 1\n",
      "  model settings:\n",
      "    name: model_settings\n",
      "    path: ../target/model\n",
      "    learning_rate: 0.001\n",
      "    epochs: 2\n",
      "    max_consecutive_increased_count: 9223372036854775807\n",
      "    nominal_labels: True\n",
      "    reduce_outcomes: argmax\n",
      "    shuffle_training: False\n",
      "    batch_limit: 9223372036854775807\n",
      "    batch_iteration: gpu\n",
      "    cache_batches: True\n",
      "    gc_level: 0\n",
      "    batch_iteration_class_name: zensols.deeplearn.model.BatchIterator\n",
      "    criterion_class_name: torch.nn.CrossEntropyLoss\n",
      "    optimizer_class_name: torch.optim.Adam\n",
      "  model:\n",
      "    ReviewNetwork(\n",
      "      (dropout): Dropout(p=0.2, inplace=False)\n",
      "      (embedding): WordVectorEmbeddingLayer(\n",
      "        (emb): Embedding(400001, 50)\n",
      "      )\n",
      "      (recur): RecurrentAggregation(\n",
      "        (dropout): Dropout(p=0.2, inplace=False)\n",
      "        (rnn): LSTM(50, 18, batch_first=True, bidirectional=True)\n",
      "      )\n",
      "      (fc_deep): DeepLinear(\n",
      "        (dropout): Dropout(p=0.2, inplace=False)\n",
      "        (lin_layers): Sequential(\n",
      "          (0): Linear(in_features=36, out_features=360, bias=True)\n",
      "          (1): Linear(in_features=360, out_features=2, bias=True)\n",
      "        )\n",
      "      )\n",
      "    )\n",
      "    metadata:\n",
      "  data point: <class 'movie.domain.ReviewDataPoint'>\n",
      "  batch: <class 'movie.domain.ReviewBatch'>\n",
      "  mapping:\n",
      "    label: label\n",
      "      label_vectorizer_manager\n",
      "        FieldFeatureMapping(attr='label', feature_id='rvlabel', is_agg=True, attr_access=None, add_dim=None)\n",
      "      language_feature_manager\n",
      "        FieldFeatureMapping(attr='glove_50_embedding', feature_id='wvglove50', is_agg=False, attr_access='doc', add_dim=None)\n",
      "        FieldFeatureMapping(attr='glove_300_embedding', feature_id='wvglove300', is_agg=False, attr_access='doc', add_dim=None)\n",
      "        FieldFeatureMapping(attr='word2vec_300_embedding', feature_id='w2v300', is_agg=False, attr_access='doc', add_dim=None)\n",
      "        FieldFeatureMapping(attr='transformer_embedding', feature_id='transformer', is_agg=False, attr_access='doc', add_dim=None)\n",
      "        FieldFeatureMapping(attr='stats', feature_id='stats', is_agg=False, attr_access='doc', add_dim=0)\n",
      "        FieldFeatureMapping(attr='enums', feature_id='enum', is_agg=False, attr_access='doc', add_dim=0)\n",
      "        FieldFeatureMapping(attr='counts', feature_id='count', is_agg=False, attr_access='doc', add_dim=0)\n",
      "        FieldFeatureMapping(attr='dependencies', feature_id='dep', is_agg=False, attr_access='doc', add_dim=0)\n",
      "  attributes:\n",
      "    label\n",
      "      field:\n",
      "        FieldFeatureMapping(attr='label', feature_id='rvlabel', is_agg=True, attr_access=None, add_dim=None)\n",
      "      vectorizer:\n",
      "        rvlabel (nominal encoder), shape: (1, 2)\n",
      "    glove_50_embedding\n",
      "      field:\n",
      "        FieldFeatureMapping(attr='glove_50_embedding', feature_id='wvglove50', is_agg=False, attr_access='doc', add_dim=None)\n",
      "      vectorizer:\n",
      "        wvglove50 (word vector sentence), feature type: EMBEDDING, token length: 56, shape: (56, 50)\n"
     ]
    }
   ],
   "source": [
    "from zensols.config import Writable\n",
    "# set indention level for human readable (pretty print like) output\n",
    "Writable.WRITABLE_INDENT_SPACE = 2\n",
    "facade = create_facade()\n",
    "facade.write()"
   ]
  },
  {
   "cell_type": "markdown",
   "metadata": {},
   "source": [
    "## Train and test the model\n",
    "\n",
    "Train and test the model with the default (low) number of epochs to make sure everything is working."
   ]
  },
  {
   "cell_type": "code",
   "execution_count": 4,
   "metadata": {},
   "outputs": [
    {
     "name": "stderr",
     "output_type": "stream",
     "text": [
      "2021-04-07 18:42:42,995 [zensols.deeplearn.model.executor.status] resetting executor\n",
      "2021-04-07 18:42:42,996 [zensols.deeplearn.model.facade] training...\n",
      "2021-04-07 18:42:42,999 [zensols.deeplearn.model.executor.status] batch iteration: gpu, limit: 9223372036854775807, caching: True, cached: 0\n",
      "2021-04-07 18:42:42,999 [zensols.deeplearn.model.executor.status] preparing datasets using iteration: gpu\n",
      "2021-04-07 18:42:44,501 [zensols.deeplearn.model.executor.status] loaded 47 batches in 1s\n",
      "2021-04-07 18:42:44,502 [zensols.deeplearn.model.executor.status] train/test sets: 41 6\n",
      "2021-04-07 18:42:44,506 [zensols.deeplearn.model.executor.status] created model on cpu with use cuda: True, device: cuda:0\n",
      "2021-04-07 18:42:44,525 [zensols.deeplearn.model.executor.status] training model <class 'movie.model.ReviewNetwork'> on cuda:0 for 2 epochs using learning rate 0.001\n",
      "  0%|                                                                                             | 0/2 [00:00<?, ?it/s]2021-04-07 18:42:44,528 [zensols.deeplearn.model.executor.status] watching update file ../target/update.json\n",
      "tr:165.118|va min:123.277|va:119.539 \\/: 100%|████████████████████████████████████████████| 2/2 [00:02<00:00,  1.23s/it]2021-04-07 18:42:46,997 [zensols.deeplearn.model.executor.status] epoch threshold reached at 2\n",
      "2021-04-07 18:42:46,998 [zensols.deeplearn.model.executor.status] final minimum validation loss: 119.538909137249, 2 decreases\n",
      "2021-04-07 18:42:47,023 [zensols.deeplearn.model.executor.status] executed train in 2s\n",
      "2021-04-07 18:42:47,024 [zensols.deeplearn.model.executor.status] deallocating 47 batches\n",
      "2021-04-07 18:42:47,027 [zensols.deeplearn.model.facade] trained in 4s\n",
      "2021-04-07 18:42:47,028 [zensols.deeplearn.model.executor.status] reloading model weights\n",
      "2021-04-07 18:42:47,046 [zensols.deeplearn.model.executor.status] created model on cpu with use cuda: True, device: cuda:0\n",
      "tr:165.118|va min:123.277|va:119.539 \\/: 100%|████████████████████████████████████████████| 2/2 [00:02<00:00,  1.26s/it]\n",
      "2021-04-07 18:42:47,079 [zensols.deeplearn.model.facade] testing...\n",
      "2021-04-07 18:42:47,080 [zensols.deeplearn.model.executor.status] batch iteration: gpu, limit: 9223372036854775807, caching: True, cached: 1\n",
      "2021-04-07 18:42:47,080 [zensols.deeplearn.model.executor.status] preparing datasets using iteration: gpu\n",
      "2021-04-07 18:42:47,420 [zensols.deeplearn.model.executor.status] loaded 11 batches in 0s\n",
      "2021-04-07 18:42:47,421 [zensols.deeplearn.model.executor.status] train/test sets: 11\n",
      "2021-04-07 18:42:47,437 [zensols.deeplearn.model.executor.status] testing model <class 'movie.model.ReviewNetwork'> on cuda:0\n",
      "2021-04-07 18:42:47,488 [zensols.deeplearn.model.executor.status] executed test in 0s\n",
      "2021-04-07 18:42:47,489 [zensols.deeplearn.model.executor.status] deallocating 11 batches\n",
      "2021-04-07 18:42:47,490 [zensols.deeplearn.model.facade] trained in 0s\n",
      "2021-04-07 18:42:47,491 [zensols.deeplearn.model.facade] load previous results\n"
     ]
    },
    {
     "name": "stdout",
     "output_type": "stream",
     "text": [
      "Name: Review: 1\n",
      "Run index: 2\n",
      "Learning rate: 0.001\n",
      "  train:\n",
      "    started: 04/07/2021 18:42:44:528852\n",
      "    ended: 04/07/2021 18:42:46:998877\n",
      "    batches: 41\n",
      "    ave data points per batch: 197.2\n",
      "    converged/epochs: 2/2\n",
      "    ave/min loss: 165.11777/54.09750\n",
      "    accuracy: 0.170 (1376/8086)\n",
      "    micro: F1: 0.170, precision: 0.170, recall: 0.170\n",
      "    macro: F1: 0.169, precision: 0.169, recall: 0.170\n",
      "    weighted: F1: 0.169, precision: 0.169, recall: 0.170\n",
      "  validation:\n",
      "    batches: 6\n",
      "    ave data points per batch: 171.5\n",
      "    converged/epochs: 2/2\n",
      "    ave/min loss: 119.53891/17.42568\n",
      "    accuracy: 0.498 (512/1029)\n",
      "    micro: F1: 0.498, precision: 0.498, recall: 0.498\n",
      "    macro: F1: 0.332, precision: 0.249, recall: 0.500\n",
      "    weighted: F1: 0.331, precision: 0.248, recall: 0.498\n",
      "  test:\n",
      "    started: 04/07/2021 18:42:47:437709\n",
      "    ended: 04/07/2021 18:42:47:488572\n",
      "    batches: 11\n",
      "    ave data points per batch: 190.8\n",
      "    converged/epochs: 1/1\n",
      "    ave/min loss: 132.69687/60.18018\n",
      "    accuracy: 0.507 (1064/2099)\n",
      "    micro: F1: 0.507, precision: 0.507, recall: 0.507\n",
      "    macro: F1: 0.336, precision: 0.253, recall: 0.500\n",
      "    weighted: F1: 0.341, precision: 0.257, recall: 0.507\n"
     ]
    },
    {
     "data": {
      "image/png": "[encoded data removed]",
      "text/plain": [
       "<Figure size 1080x360 with 1 Axes>"
      ]
     },
     "metadata": {
      "needs_background": "light"
     },
     "output_type": "display_data"
    }
   ],
   "source": [
    "facade.epochs = 2\n",
    "facade.train()\n",
    "facade.test()\n",
    "facade.write_result()\n",
    "facade.plot_result()\n",
    "facade.persist_result()"
   ]
  },
  {
   "cell_type": "markdown",
   "metadata": {},
   "source": [
    "## Tune hyperparameters\n",
    "\n",
    "Set model parameters to get a feel for where they need to be before changing features."
   ]
  },
  {
   "cell_type": "code",
   "execution_count": 5,
   "metadata": {},
   "outputs": [
    {
     "name": "stderr",
     "output_type": "stream",
     "text": [
      "2021-04-07 18:42:57,662 [zensols.deeplearn.model.executor.status] resetting executor\n",
      "2021-04-07 18:42:57,663 [zensols.deeplearn.model.facade] training...\n",
      "2021-04-07 18:42:57,664 [zensols.deeplearn.model.executor.status] batch iteration: gpu, limit: 9223372036854775807, caching: True, cached: 2\n",
      "2021-04-07 18:42:57,665 [zensols.deeplearn.model.executor.status] train/test sets: 41 6\n",
      "2021-04-07 18:42:57,683 [zensols.deeplearn.model.executor.status] created model on cpu with use cuda: True, device: cuda:0\n",
      "2021-04-07 18:42:57,698 [zensols.deeplearn.model.executor.status] training model <class 'movie.model.ReviewNetwork'> on cuda:0 for 75 epochs using learning rate 0.001\n",
      "  0%|                                                                                            | 0/75 [00:00<?, ?it/s]2021-04-07 18:42:57,700 [zensols.deeplearn.model.executor.status] watching update file ../target/update.json\n",
      "tr:114.589|va min:92.324|va:92.159 \\/: 100%|████████████████████████████████████████████| 75/75 [02:05<00:00,  1.97s/it]2021-04-07 18:45:03,283 [zensols.deeplearn.model.executor.status] epoch threshold reached at 75\n",
      "2021-04-07 18:45:03,284 [zensols.deeplearn.model.executor.status] final minimum validation loss: 92.1586255778869, 55 decreases\n",
      "2021-04-07 18:45:03,668 [zensols.deeplearn.model.executor.status] executed train in 2 minutes, 6s\n",
      "2021-04-07 18:45:03,669 [zensols.deeplearn.model.executor.status] deallocating 0 batches\n",
      "2021-04-07 18:45:03,670 [zensols.deeplearn.model.facade] trained in 2 minutes, 6s\n",
      "2021-04-07 18:45:03,670 [zensols.deeplearn.model.executor.status] reloading model weights\n",
      "2021-04-07 18:45:03,690 [zensols.deeplearn.model.executor.status] created model on cpu with use cuda: True, device: cuda:0\n",
      "tr:114.589|va min:92.324|va:92.159 \\/: 100%|████████████████████████████████████████████| 75/75 [02:06<00:00,  1.68s/it]\n",
      "2021-04-07 18:45:03,889 [zensols.deeplearn.model.facade] testing...\n",
      "2021-04-07 18:45:03,890 [zensols.deeplearn.model.executor.status] batch iteration: gpu, limit: 9223372036854775807, caching: True, cached: 2\n",
      "2021-04-07 18:45:03,891 [zensols.deeplearn.model.executor.status] train/test sets: 11\n",
      "2021-04-07 18:45:03,906 [zensols.deeplearn.model.executor.status] testing model <class 'movie.model.ReviewNetwork'> on cuda:0\n",
      "2021-04-07 18:45:03,958 [zensols.deeplearn.model.executor.status] executed test in 0s\n",
      "2021-04-07 18:45:03,959 [zensols.deeplearn.model.executor.status] deallocating 0 batches\n",
      "2021-04-07 18:45:03,959 [zensols.deeplearn.model.facade] trained in 0s\n",
      "2021-04-07 18:45:03,960 [zensols.deeplearn.model.facade] load previous results\n"
     ]
    },
    {
     "name": "stdout",
     "output_type": "stream",
     "text": [
      "Name: Review: 1\n",
      "Run index: 2\n",
      "Learning rate: 0.001\n",
      "  train:\n",
      "    started: 04/07/2021 18:42:57:701328\n",
      "    ended: 04/07/2021 18:45:03:284841\n",
      "    batches: 41\n",
      "    ave data points per batch: 197.2\n",
      "    converged/epochs: 74/75\n",
      "    ave/min loss: 114.50596/27.85959\n",
      "    accuracy: 0.691 (5591/8086)\n",
      "    micro: F1: 0.691, precision: 0.691, recall: 0.691\n",
      "    macro: F1: 0.690, precision: 0.696, recall: 0.692\n",
      "    weighted: F1: 0.690, precision: 0.696, recall: 0.691\n",
      "  validation:\n",
      "    batches: 6\n",
      "    ave data points per batch: 171.5\n",
      "    converged/epochs: 75/75\n",
      "    ave/min loss: 92.15863/11.82902\n",
      "    accuracy: 0.729 (750/1029)\n",
      "    micro: F1: 0.729, precision: 0.729, recall: 0.729\n",
      "    macro: F1: 0.726, precision: 0.738, recall: 0.729\n",
      "    weighted: F1: 0.726, precision: 0.738, recall: 0.729\n",
      "  test:\n",
      "    started: 04/07/2021 18:45:03:907212\n",
      "    ended: 04/07/2021 18:45:03:958374\n",
      "    batches: 11\n",
      "    ave data points per batch: 190.8\n",
      "    converged/epochs: 1/1\n",
      "    ave/min loss: 106.97967/44.89465\n",
      "    accuracy: 0.709 (1489/2099)\n",
      "    micro: F1: 0.709, precision: 0.709, recall: 0.709\n",
      "    macro: F1: 0.706, precision: 0.718, recall: 0.708\n",
      "    weighted: F1: 0.706, precision: 0.717, recall: 0.709\n"
     ]
    },
    {
     "data": {
      "text/plain": [
       "movie.model.ReviewNetwork (2)"
      ]
     },
     "execution_count": 5,
     "metadata": {},
     "output_type": "execute_result"
    },
    {
     "data": {
      "image/png": "[encoded data removed]",
      "text/plain": [
       "<Figure size 1080x360 with 1 Axes>"
      ]
     },
     "metadata": {
      "needs_background": "light"
     },
     "output_type": "display_data"
    }
   ],
   "source": [
    "facade.learning_rate = 0.001\n",
    "facade.epochs = 75\n",
    "facade.dropout = 0.3\n",
    "facade.train()\n",
    "facade.test()\n",
    "facade.write_result()\n",
    "facade.plot_result()"
   ]
  },
  {
   "cell_type": "code",
   "execution_count": null,
   "metadata": {},
   "outputs": [],
   "source": [
    "facade.epochs = 60\n",
    "facade.embedding = 'word2vec_300_embedding'\n",
    "facade.train()\n",
    "facade.test()\n",
    "facade.write_result()\n",
    "facade.plot_result()\n",
    "facade.persist_result()"
   ]
  },
  {
   "cell_type": "code",
   "execution_count": null,
   "metadata": {},
   "outputs": [],
   "source": [
    "facade.embedding = 'bert_embedding'\n",
    "facade.train()\n",
    "facade.test()\n",
    "facade.write_result()\n",
    "facade.plot_result()"
   ]
  }
 ],
 "metadata": {
  "kernelspec": {
   "display_name": "Python 3",
   "language": "python",
   "name": "python3"
  },
  "language_info": {
   "codemirror_mode": {
    "name": "ipython",
    "version": 3
   },
   "file_extension": ".py",
   "mimetype": "text/x-python",
   "name": "python",
   "nbconvert_exporter": "python",
   "pygments_lexer": "ipython3",
   "version": "3.9.2"
  }
 },
 "nbformat": 4,
 "nbformat_minor": 4
}
