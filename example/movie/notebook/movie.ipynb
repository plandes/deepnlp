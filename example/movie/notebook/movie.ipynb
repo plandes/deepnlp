{
 "cells": [
  {
   "cell_type": "markdown",
   "metadata": {},
   "source": [
    "# Deep learning framework example: Movie Review Dataset\n",
    "\n",
    "This notebook demonstrates how to use the deeplearning API to train and test the model on the [MNIST dataset](http://yann.lecun.com/exdb/mnist/).  This dataset contains hand written digits and their labels.\n",
    "\n",
    "Before you run this notebook, you must ensure the corpus is installed.  Please see the `README.md` file for more information.\n",
    "\n",
    "**Important**: Please see the Iris notebook example in the `zensols.deeplearn` API first, as it contains more explaination of how the framework is used.  The purpose of this notebook is to run the MNIST dataset and visualize the results."
   ]
  },
  {
   "cell_type": "code",
   "execution_count": 1,
   "metadata": {},
   "outputs": [],
   "source": [
    "# set up notebook environment\n",
    "import sys\n",
    "app_root_dir = '..'\n",
    "sys.path.append(app_root_dir + '/src')\n",
    "# add the deepnlp path\n",
    "sys.path.append('../../../src/python')"
   ]
  },
  {
   "cell_type": "markdown",
   "metadata": {},
   "source": [
    "## Configure and create the app specific facade\n",
    "\n",
    "Now that the interpreter environment is set up, we can import local packages."
   ]
  },
  {
   "cell_type": "code",
   "execution_count": 2,
   "metadata": {},
   "outputs": [],
   "source": [
    "import logging\n",
    "from zensols.config import ImportConfigFactory\n",
    "from zensols.deeplearn import TorchConfig\n",
    "from movie import AppConfig, ReviewModelFacade\n",
    "\n",
    "# set the random seed so things are predictable\n",
    "TorchConfig.set_random_seed()\n",
    "\n",
    "# configure the environment\n",
    "config = AppConfig(config_file=app_root_dir + '/resources/movie.conf', env={'app_root': app_root_dir})\n",
    "\n",
    "def create_facade():\n",
    "    \"\"\"Create and return a facade with columns that fit a notebook.\n",
    " \n",
    "    \"\"\"\n",
    "    # create a factoty that instantiates Python objects using a simple configuration (INI)\n",
    "    facade = ReviewModelFacade(config)\n",
    "    # set console based logging\n",
    "    facade.configure_jupyter(logging.WARNING)\n",
    "    return facade"
   ]
  },
  {
   "cell_type": "markdown",
   "metadata": {},
   "source": [
    "## Print information about \n",
    "\n",
    "Use the factory to create the model executor.  The `write` method gives statistics on the data set that is configured on the executor."
   ]
  },
  {
   "cell_type": "code",
   "execution_count": 3,
   "metadata": {
    "scrolled": false
   },
   "outputs": [
    {
     "name": "stdout",
     "output_type": "stream",
     "text": [
      "executor:\n",
      "  model: Review\n",
      "  feature splits:\n",
      "    split stash splits:\n"
     ]
    },
    {
     "name": "stderr",
     "output_type": "stream",
     "text": [
      "2020-12-07 06:50:07,761[INFO]zensols.multi.stash: feature_factory_stash: spawning work with chunk size 1402 across 8 workers\n"
     ]
    },
    {
     "name": "stdout",
     "output_type": "stream",
     "text": [
      "        dev: 1029 (9.2%)\n",
      "        test: 2099 (18.7%)\n",
      "        train: 8086 (72.1%)\n",
      "        total: 11214\n"
     ]
    },
    {
     "name": "stderr",
     "output_type": "stream",
     "text": [
      "2020-12-07 06:50:07,884[INFO]zensols.multi.stash: factory inst feature_factory_stash for chunk 1 in 0s\n",
      "2020-12-07 06:50:07,887[INFO]zensols.multi.stash: processing chunk 1 with stash <class 'movie.domain.ReviewFeatureStash'>\n",
      "2020-12-07 06:50:07,885[INFO]zensols.multi.stash: factory inst feature_factory_stash for chunk 0 in 0s\n",
      "2020-12-07 06:50:07,888[INFO]zensols.multi.stash: factory inst feature_factory_stash for chunk 3 in 0s\n",
      "2020-12-07 06:50:07,888[INFO]zensols.multi.stash: processing chunk 0 with stash <class 'movie.domain.ReviewFeatureStash'>\n",
      "2020-12-07 06:50:07,894[INFO]zensols.multi.stash: factory inst feature_factory_stash for chunk 4 in 0s\n",
      "2020-12-07 06:50:07,890[INFO]zensols.multi.stash: processing chunk 3 with stash <class 'movie.domain.ReviewFeatureStash'>\n",
      "2020-12-07 06:50:07,890[INFO]zensols.multi.stash: factory inst feature_factory_stash for chunk 2 in 0s\n",
      "2020-12-07 06:50:07,896[INFO]zensols.multi.stash: factory inst feature_factory_stash for chunk 5 in 0s\n",
      "2020-12-07 06:50:07,899[INFO]zensols.multi.stash: processing chunk 2 with stash <class 'movie.domain.ReviewFeatureStash'>\n",
      "2020-12-07 06:50:07,900[INFO]zensols.multi.stash: processing chunk 4 with stash <class 'movie.domain.ReviewFeatureStash'>\n",
      "2020-12-07 06:50:07,900[INFO]zensols.multi.stash: processing chunk 5 with stash <class 'movie.domain.ReviewFeatureStash'>\n",
      "2020-12-07 06:50:07,903[INFO]zensols.multi.stash: factory inst feature_factory_stash for chunk 6 in 0s\n",
      "2020-12-07 06:50:07,906[INFO]zensols.multi.stash: processing chunk 6 with stash <class 'movie.domain.ReviewFeatureStash'>\n",
      "2020-12-07 06:50:07,913[INFO]zensols.multi.stash: factory inst feature_factory_stash for chunk 7 in 0s\n",
      "2020-12-07 06:50:07,919[INFO]zensols.multi.stash: processing chunk 7 with stash <class 'movie.domain.ReviewFeatureStash'>\n",
      "2020-12-07 06:50:39,376[INFO]zensols.multi.stash: processed 1402 items for chunk 5 in 31s\n",
      "2020-12-07 06:50:39,383[INFO]zensols.multi.stash: processed chunk feature_factory_stash (5): data: str in 31s\n",
      "2020-12-07 06:50:41,389[INFO]zensols.multi.stash: processed 1402 items for chunk 1 in 33s\n",
      "2020-12-07 06:50:41,392[INFO]zensols.multi.stash: processed chunk feature_factory_stash (1): data: str in 33s\n",
      "2020-12-07 06:50:41,687[INFO]zensols.multi.stash: processed 1402 items for chunk 4 in 33s\n",
      "2020-12-07 06:50:41,694[INFO]zensols.multi.stash: processed chunk feature_factory_stash (4): data: str in 33s\n",
      "2020-12-07 06:50:41,811[INFO]zensols.multi.stash: processed 1402 items for chunk 3 in 33s\n",
      "2020-12-07 06:50:41,815[INFO]zensols.multi.stash: processed chunk feature_factory_stash (3): data: str in 33s\n",
      "2020-12-07 06:50:41,824[INFO]zensols.multi.stash: processed 1402 items for chunk 2 in 33s\n",
      "2020-12-07 06:50:41,828[INFO]zensols.multi.stash: processed chunk feature_factory_stash (2): data: str in 33s\n",
      "2020-12-07 06:50:41,908[INFO]zensols.multi.stash: processed 1402 items for chunk 0 in 34s\n",
      "2020-12-07 06:50:41,910[INFO]zensols.multi.stash: processed 1402 items for chunk 6 in 34s\n",
      "2020-12-07 06:50:41,911[INFO]zensols.multi.stash: processed chunk feature_factory_stash (0): data: str in 34s\n",
      "2020-12-07 06:50:41,913[INFO]zensols.multi.stash: processed chunk feature_factory_stash (6): data: str in 34s\n",
      "2020-12-07 06:50:42,005[INFO]zensols.multi.stash: processed 1400 items for chunk 7 in 34s\n",
      "2020-12-07 06:50:42,008[INFO]zensols.multi.stash: processed chunk feature_factory_stash (7): data: str in 34s\n",
      "2020-12-07 06:50:42,009[INFO]zensols.multi.stash: processed chunks in 34s\n",
      "2020-12-07 06:50:42,115[INFO]zensols.multi.stash: completed work in ReviewFeatureStash in 34s\n",
      "2020-12-07 06:50:42,700[INFO]zensols.multi.stash: batch_stash: spawning work with chunk size 20 across 3 workers\n"
     ]
    },
    {
     "name": "stdout",
     "output_type": "stream",
     "text": [
      "    total this instance: 11214\n",
      "    keys consistent: True\n",
      "  batch splits:\n",
      "    split stash splits:\n",
      "        dev: 6 (10.3%)\n",
      "        test: 11 (19.0%)\n",
      "        train: 41 (70.7%)\n",
      "        total: 58\n"
     ]
    },
    {
     "name": "stderr",
     "output_type": "stream",
     "text": [
      "2020-12-07 06:50:42,757[INFO]zensols.multi.stash: factory inst batch_stash for chunk 0 in 0s\n",
      "2020-12-07 06:50:42,759[INFO]zensols.multi.stash: processing chunk 0 with stash <class 'zensols.deeplearn.batch.stash.BatchStash'>\n",
      "2020-12-07 06:50:42,759[INFO]zensols.multi.stash: factory inst batch_stash for chunk 1 in 0s\n",
      "2020-12-07 06:50:42,761[INFO]zensols.multi.stash: factory inst batch_stash for chunk 2 in 0s\n",
      "2020-12-07 06:50:42,761[INFO]zensols.multi.stash: processing chunk 1 with stash <class 'zensols.deeplearn.batch.stash.BatchStash'>\n",
      "2020-12-07 06:50:42,762[INFO]zensols.multi.stash: processing chunk 2 with stash <class 'zensols.deeplearn.batch.stash.BatchStash'>\n",
      "2020-12-07 06:50:43,023[INFO]zensols.deepnlp.embed.wordtext: reading binary vector file: ../corpus/glove/bin/6B.300/vec\n",
      "2020-12-07 06:50:43,124[INFO]zensols.deepnlp.embed.wordtext: reading binary vector file: ../corpus/glove/bin/6B.300/vec\n",
      "2020-12-07 06:50:43,125[INFO]zensols.deepnlp.embed.wordtext: reading binary vector file: ../corpus/glove/bin/6B.300/vec\n",
      "2020-12-07 06:50:44,400[INFO]zensols.deepnlp.embed.wordtext: loaded 400000 vectors in 1s\n",
      "2020-12-07 06:50:44,405[INFO]zensols.deepnlp.embed.wordtext: loaded 400000 vectors in 1s\n",
      "2020-12-07 06:50:44,421[INFO]zensols.deepnlp.embed.wordtext: loaded 400000 vectors in 1s\n",
      "2020-12-07 06:50:45,206[INFO]zensols.deepnlp.embed.wordtext: prepared vectors in 0s\n",
      "2020-12-07 06:50:45,210[INFO]zensols.deepnlp.embed.wordtext: prepared vectors in 0s\n",
      "2020-12-07 06:50:45,224[INFO]zensols.deepnlp.embed.wordtext: prepared vectors in 0s\n",
      "2020-12-07 06:50:45,331[INFO]zensols.deepnlp.embed.word2vec: reading binary vector file\n",
      "2020-12-07 06:50:45,332[INFO]zensols.deepnlp.embed.word2vec: loading keyed file: ../corpus/word2vec/GoogleNews-vectors-negative300.bin\n",
      "2020-12-07 06:50:45,329[INFO]zensols.deepnlp.embed.word2vec: reading binary vector file\n",
      "2020-12-07 06:50:45,335[INFO]zensols.deepnlp.embed.word2vec: loading keyed file: ../corpus/word2vec/GoogleNews-vectors-negative300.bin\n",
      "2020-12-07 06:50:45,348[INFO]zensols.deepnlp.embed.word2vec: reading binary vector file\n",
      "2020-12-07 06:50:45,349[INFO]zensols.deepnlp.embed.word2vec: loading keyed file: ../corpus/word2vec/GoogleNews-vectors-negative300.bin\n",
      "2020-12-07 06:52:43,850[INFO]zensols.deepnlp.embed.word2vec: loaded key model from /home/landes/view/nlp/deepnlp/example/movie/notebook/../corpus/word2vec/GoogleNews-vectors-negative300.bin in 1 minute, 58s\n",
      "2020-12-07 06:52:43,851[INFO]zensols.deepnlp.embed.word2vec: loaded word2vec model in 1 minute, 58s\n",
      "2020-12-07 06:52:44,030[INFO]zensols.deepnlp.embed.word2vec: loaded key model from /home/landes/view/nlp/deepnlp/example/movie/notebook/../corpus/word2vec/GoogleNews-vectors-negative300.bin in 1 minute, 58s\n",
      "2020-12-07 06:52:44,031[INFO]zensols.deepnlp.embed.word2vec: loaded word2vec model in 1 minute, 58s\n",
      "2020-12-07 06:52:44,511[INFO]zensols.deepnlp.embed.word2vec: loaded key model from /home/landes/view/nlp/deepnlp/example/movie/notebook/../corpus/word2vec/GoogleNews-vectors-negative300.bin in 1 minute, 59s\n",
      "2020-12-07 06:52:44,512[INFO]zensols.deepnlp.embed.word2vec: loaded word2vec model in 1 minute, 59s\n",
      "2020-12-07 06:52:56,158[INFO]zensols.deepnlp.embed.word2vec: created data structures in 12s\n",
      "2020-12-07 06:52:56,396[INFO]zensols.deepnlp.embed.word2vec: created data structures in 12s\n",
      "2020-12-07 06:52:56,881[INFO]zensols.deepnlp.embed.word2vec: created data structures in 12s\n",
      "2020-12-07 06:53:16,088[INFO]zensols.multi.stash: processed 18 items for chunk 2 in 2 minutes, 33s\n",
      "2020-12-07 06:53:16,095[INFO]zensols.multi.stash: processed chunk batch_stash (2): data: DataPointIDSet in 2 minutes, 33s\n",
      "2020-12-07 06:53:17,907[INFO]zensols.multi.stash: processed 20 items for chunk 0 in 2 minutes, 35s\n",
      "2020-12-07 06:53:17,912[INFO]zensols.multi.stash: processed chunk batch_stash (0): data: DataPointIDSet in 2 minutes, 35s\n",
      "2020-12-07 06:53:18,543[INFO]zensols.multi.stash: processed 20 items for chunk 1 in 2 minutes, 35s\n",
      "2020-12-07 06:53:18,548[INFO]zensols.multi.stash: processed chunk batch_stash (1): data: DataPointIDSet in 2 minutes, 35s\n",
      "2020-12-07 06:53:18,550[INFO]zensols.multi.stash: processed chunks in 2 minutes, 35s\n",
      "2020-12-07 06:53:19,814[INFO]zensols.multi.stash: completed work in BatchStash in 2 minutes, 37s\n",
      "2020-12-07 06:53:19,854[INFO]zensols.deeplearn.model.executor.status: created model on cpu with use cuda: True, device: cuda:0\n"
     ]
    },
    {
     "name": "stdout",
     "output_type": "stream",
     "text": [
      "    total this instance: 58\n",
      "    keys consistent: True\n",
      "    delegate:\n",
      "      name: batch_stash\n",
      "      chunk_size: 0\n",
      "      workers: 3\n",
      "      batch_size: 200\n",
      "      data_point_id_sets_path: ../data/batch/batch-point-keys.dat\n",
      "      batch_limit: 9223372036854775807\n",
      "      delegate_attr: True\n",
      "      _has_data: True\n",
      "      is_child: False\n",
      "      _decoded_attributes: {'label', 'glove_50_embedding'}\n",
      "      priming: False\n",
      "  network settings:\n",
      "    name: net_settings\n",
      "    dropout: 0.2\n",
      "    recurrent_settings:\n",
      "      name: recurrent_settings\n",
      "      dropout: 0.2\n",
      "      network_type: lstm\n",
      "      aggregation: max\n",
      "      bidirectional: True\n",
      "      hidden_size: 36\n",
      "      num_layers: 1\n",
      "    linear_settings:\n",
      "      name: linear_settings\n",
      "      dropout: 0.2\n",
      "      out_features: 2\n",
      "      middle_features:\n",
      "        10\n",
      "      proportions: True\n",
      "      repeats: 1\n",
      "  model settings:\n",
      "    name: model_settings\n",
      "    path: ../target/model\n",
      "    learning_rate: 0.001\n",
      "    epochs: 3\n",
      "    max_consecutive_increased_count: 9223372036854775807\n",
      "    nominal_labels: True\n",
      "    reduce_outcomes: argmax\n",
      "    shuffle_training: False\n",
      "    batch_limit: 9223372036854775807\n",
      "    batch_iteration: gpu\n",
      "    cache_batches: True\n",
      "    gc_level: 0\n",
      "    batch_iteration_class_name: zensols.deeplearn.model.BatchIterator\n",
      "    criterion_class_name: torch.nn.CrossEntropyLoss\n",
      "    optimizer_class_name: torch.optim.Adam\n",
      "  model:\n",
      "    ReviewNetwork(\n",
      "      (dropout): Dropout(p=0.2, inplace=False)\n",
      "      (embedding): WordVectorEmbeddingLayer(\n",
      "        (emb): Embedding(400001, 50)\n",
      "      )\n",
      "      (recur): RecurrentAggregation(\n",
      "        (dropout): Dropout(p=0.2, inplace=False)\n",
      "        (rnn): LSTM(50, 18, batch_first=True, dropout=0.2, bidirectional=True)\n",
      "      )\n",
      "      (fc_deep): DeepLinear(\n",
      "        (dropout): Dropout(p=0.2, inplace=False)\n",
      "        (lin_layers): Sequential(\n",
      "          (0): Linear(in_features=36, out_features=360, bias=True)\n",
      "          (1): Linear(in_features=360, out_features=2, bias=True)\n",
      "        )\n",
      "      )\n",
      "    )\n",
      "    metadata:\n",
      "  data point: <class 'movie.domain.ReviewDataPoint'>\n",
      "  batch: <class 'movie.domain.ReviewBatch'>\n",
      "  mapping:\n",
      "    label: label\n",
      "      label_vectorizer_manager\n",
      "        FieldFeatureMapping(attr='label', feature_id='rvlabel', is_agg=True, attr_access=None, add_dim=None)\n",
      "      language_feature_manager\n",
      "        FieldFeatureMapping(attr='glove_50_embedding', feature_id='wvglove50', is_agg=False, attr_access='doc', add_dim=None)\n",
      "        FieldFeatureMapping(attr='glove_300_embedding', feature_id='wvglove300', is_agg=False, attr_access='doc', add_dim=None)\n",
      "        FieldFeatureMapping(attr='word2vec_300_embedding', feature_id='w2v300', is_agg=False, attr_access='doc', add_dim=None)\n",
      "        FieldFeatureMapping(attr='bert_embedding', feature_id='bert', is_agg=False, attr_access='doc', add_dim=None)\n",
      "        FieldFeatureMapping(attr='stats', feature_id='stats', is_agg=False, attr_access='doc', add_dim=0)\n",
      "        FieldFeatureMapping(attr='enums', feature_id='enum', is_agg=False, attr_access='doc', add_dim=0)\n",
      "        FieldFeatureMapping(attr='counts', feature_id='count', is_agg=False, attr_access='doc', add_dim=0)\n",
      "        FieldFeatureMapping(attr='dependencies', feature_id='dep', is_agg=False, attr_access='doc', add_dim=0)\n",
      "  attributes:\n",
      "    label\n",
      "      field:\n",
      "        FieldFeatureMapping(attr='label', feature_id='rvlabel', is_agg=True, attr_access=None, add_dim=None)\n",
      "      vectorizer:\n",
      "        rvlabel (nominal encoder), shape: (1, 2)\n",
      "    glove_50_embedding\n",
      "      field:\n",
      "        FieldFeatureMapping(attr='glove_50_embedding', feature_id='wvglove50', is_agg=False, attr_access='doc', add_dim=None)\n",
      "      vectorizer:\n",
      "        wvglove50 (word vector sentence), feature type: EMBEDDING, token length: 56, shape: (56, 50)\n"
     ]
    }
   ],
   "source": [
    "from zensols.config import Writable\n",
    "# set indention level for human readable (pretty print like) output\n",
    "Writable.WRITABLE_INDENT_SPACE = 2\n",
    "facade = create_facade()\n",
    "facade.write()"
   ]
  },
  {
   "cell_type": "markdown",
   "metadata": {},
   "source": [
    "## Train and test the model\n",
    "\n",
    "Train and test the model with the default (low) number of epochs to make sure everything is working."
   ]
  },
  {
   "cell_type": "code",
   "execution_count": 4,
   "metadata": {},
   "outputs": [
    {
     "name": "stderr",
     "output_type": "stream",
     "text": [
      "2020-12-07 06:53:19,866[INFO]zensols.deeplearn.model.executor.status: resetting executor\n",
      "2020-12-07 06:53:19,867[INFO]zensols.deeplearn.model.facade: training...\n",
      "2020-12-07 06:53:19,869[INFO]zensols.deeplearn.model.executor.status: batch iteration: gpu, limit: 9223372036854775807, caching: True, cached: 0\n",
      "2020-12-07 06:53:24,113[INFO]zensols.deeplearn.model.executor.status: loaded 47 batches in 4s\n",
      "2020-12-07 06:53:24,113[INFO]zensols.deeplearn.model.executor.status: train/test sets: 41 6\n",
      "2020-12-07 06:53:24,117[INFO]zensols.deeplearn.model.executor.status: created model on cpu with use cuda: True, device: cuda:0\n",
      "2020-12-07 06:53:24,135[INFO]zensols.deeplearn.model.executor.status: training model <class 'movie.model.ReviewNetwork'> on cuda:0 for 2 epochs using learning rate 0.001\n",
      "  0%|                                                                                             | 0/2 [00:00<?, ?it/s]2020-12-07 06:53:24,139[INFO]zensols.deeplearn.model.executor.status: watching update file ../target/update.json\n",
      "tr:164.238|va min:122.788|va:119.610 \\/: 100%|████████████████████████████████████████████| 2/2 [00:02<00:00,  1.18s/it]2020-12-07 06:53:26,504[INFO]zensols.deeplearn.model.executor.status: epoch threshold reached at 2\n",
      "2020-12-07 06:53:26,504[INFO]zensols.deeplearn.model.executor.status: final minimum validation loss: 119.60985578099887, 2 decreases\n",
      "2020-12-07 06:53:26,525[INFO]zensols.deeplearn.model.executor.status: executed train in 2s\n",
      "2020-12-07 06:53:26,526[INFO]zensols.deeplearn.model.executor.status: deallocating 47 batches\n",
      "2020-12-07 06:53:26,530[INFO]zensols.deeplearn.model.facade: trained in 6s\n",
      "2020-12-07 06:53:26,531[INFO]zensols.deeplearn.model.executor.status: reloading model weights\n",
      "2020-12-07 06:53:26,570[INFO]zensols.deeplearn.model.executor.status: created model on cpu with use cuda: True, device: cuda:0\n",
      "tr:164.238|va min:122.788|va:119.610 \\/: 100%|████████████████████████████████████████████| 2/2 [00:02<00:00,  1.22s/it]\n",
      "2020-12-07 06:53:26,592[INFO]zensols.deeplearn.model.facade: testing...\n",
      "2020-12-07 06:53:26,593[INFO]zensols.deeplearn.model.executor.status: batch iteration: gpu, limit: 9223372036854775807, caching: True, cached: 1\n",
      "2020-12-07 06:53:26,821[INFO]zensols.deeplearn.model.executor.status: loaded 11 batches in 0s\n",
      "2020-12-07 06:53:26,821[INFO]zensols.deeplearn.model.executor.status: train/test sets: 11\n",
      "2020-12-07 06:53:26,842[INFO]zensols.deeplearn.model.executor.status: testing model <class 'movie.model.ReviewNetwork'> on cuda:0\n",
      "2020-12-07 06:53:26,896[INFO]zensols.deeplearn.model.executor.status: executed test in 0s\n",
      "2020-12-07 06:53:26,897[INFO]zensols.deeplearn.model.executor.status: deallocating 11 batches\n",
      "2020-12-07 06:53:26,898[INFO]zensols.deeplearn.model.facade: trained in 0s\n",
      "2020-12-07 06:53:26,899[INFO]zensols.deeplearn.model.facade: load previous results\n"
     ]
    },
    {
     "name": "stdout",
     "output_type": "stream",
     "text": [
      "Name: Review: 1\n",
      "Run index: 2\n",
      "Learning rate: 0.001\n",
      "  train:\n",
      "    started: 12/07/2020 06:53:24:139978\n",
      "    ended: 12/07/2020 06:53:26:505201\n",
      "    batches: 41\n",
      "    ave data points per batch: 197.2\n",
      "    converged/epochs: 2/2\n",
      "    ave/min loss: 164.23752/54.03560\n",
      "    accuracy: 0.171 (1382/8086)\n",
      "    micro: F1: 0.171, precision: 0.171, recall: 0.171\n",
      "    macro: F1: 0.171, precision: 0.171, recall: 0.171\n",
      "  validation:\n",
      "    batches: 6\n",
      "    ave data points per batch: 171.5\n",
      "    converged/epochs: 2/2\n",
      "    ave/min loss: 119.60986/17.29031\n",
      "    accuracy: 0.498 (512/1029)\n",
      "    micro: F1: 0.498, precision: 0.498, recall: 0.498\n",
      "    macro: F1: 0.332, precision: 0.249, recall: 0.500\n",
      "  test:\n",
      "    started: 12/07/2020 06:53:26:843722\n",
      "    ended: 12/07/2020 06:53:26:896608\n",
      "    batches: 11\n",
      "    ave data points per batch: 190.8\n",
      "    converged/epochs: 1/1\n",
      "    ave/min loss: 132.75834/59.75591\n",
      "    accuracy: 0.507 (1064/2099)\n",
      "    micro: F1: 0.507, precision: 0.507, recall: 0.507\n",
      "    macro: F1: 0.336, precision: 0.253, recall: 0.500\n"
     ]
    },
    {
     "data": {
      "image/png": "[encoded data removed]",
      "text/plain": [
       "<Figure size 1080x360 with 1 Axes>"
      ]
     },
     "metadata": {
      "needs_background": "light"
     },
     "output_type": "display_data"
    }
   ],
   "source": [
    "facade.epochs = 2\n",
    "facade.train()\n",
    "facade.test()\n",
    "facade.write_result()\n",
    "facade.plot_result()\n",
    "facade.persist_result()"
   ]
  },
  {
   "cell_type": "markdown",
   "metadata": {},
   "source": [
    "## Tune hyperparameters\n",
    "\n",
    "Set model parameters to get a feel for where they need to be before changing features."
   ]
  },
  {
   "cell_type": "code",
   "execution_count": 5,
   "metadata": {},
   "outputs": [
    {
     "name": "stderr",
     "output_type": "stream",
     "text": [
      "2020-12-07 06:53:27,417[INFO]zensols.deeplearn.model.executor.status: resetting executor\n",
      "2020-12-07 06:53:27,418[INFO]zensols.deeplearn.model.facade: training...\n",
      "2020-12-07 06:53:27,419[INFO]zensols.deeplearn.model.executor.status: batch iteration: gpu, limit: 9223372036854775807, caching: True, cached: 2\n",
      "2020-12-07 06:53:27,420[INFO]zensols.deeplearn.model.executor.status: train/test sets: 41 6\n",
      "2020-12-07 06:53:27,459[INFO]zensols.deeplearn.model.executor.status: created model on cpu with use cuda: True, device: cuda:0\n",
      "2020-12-07 06:53:27,480[INFO]zensols.deeplearn.model.executor.status: training model <class 'movie.model.ReviewNetwork'> on cuda:0 for 70 epochs using learning rate 0.001\n",
      "  0%|                                                                                            | 0/70 [00:00<?, ?it/s]2020-12-07 06:53:27,482[INFO]zensols.deeplearn.model.executor.status: watching update file ../target/update.json\n",
      "tr:116.049|va min:92.704|va:92.880 /\\: 100%|████████████████████████████████████████████| 70/70 [01:34<00:00,  1.08s/it]2020-12-07 06:55:02,176[INFO]zensols.deeplearn.model.executor.status: epoch threshold reached at 70\n",
      "2020-12-07 06:55:02,177[INFO]zensols.deeplearn.model.executor.status: final minimum validation loss: 92.70416238904, 46 decreases\n",
      "2020-12-07 06:55:02,557[INFO]zensols.deeplearn.model.executor.status: executed train in 1 minute, 35s\n",
      "2020-12-07 06:55:02,558[INFO]zensols.deeplearn.model.executor.status: deallocating 0 batches\n",
      "2020-12-07 06:55:02,559[INFO]zensols.deeplearn.model.facade: trained in 1 minute, 35s\n",
      "2020-12-07 06:55:02,559[INFO]zensols.deeplearn.model.executor.status: reloading model weights\n",
      "2020-12-07 06:55:02,601[INFO]zensols.deeplearn.model.executor.status: created model on cpu with use cuda: True, device: cuda:0\n",
      "tr:116.049|va min:92.704|va:92.880 /\\: 100%|████████████████████████████████████████████| 70/70 [01:35<00:00,  1.36s/it]\n",
      "2020-12-07 06:55:02,705[INFO]zensols.deeplearn.model.facade: testing...\n",
      "2020-12-07 06:55:02,706[INFO]zensols.deeplearn.model.executor.status: batch iteration: gpu, limit: 9223372036854775807, caching: True, cached: 2\n",
      "2020-12-07 06:55:02,706[INFO]zensols.deeplearn.model.executor.status: train/test sets: 11\n",
      "2020-12-07 06:55:02,728[INFO]zensols.deeplearn.model.executor.status: testing model <class 'movie.model.ReviewNetwork'> on cuda:0\n",
      "2020-12-07 06:55:02,783[INFO]zensols.deeplearn.model.executor.status: executed test in 0s\n",
      "2020-12-07 06:55:02,783[INFO]zensols.deeplearn.model.executor.status: deallocating 0 batches\n",
      "2020-12-07 06:55:02,784[INFO]zensols.deeplearn.model.facade: trained in 0s\n",
      "2020-12-07 06:55:02,785[INFO]zensols.deeplearn.model.facade: load previous results\n"
     ]
    },
    {
     "name": "stdout",
     "output_type": "stream",
     "text": [
      "Name: Review: 1\n",
      "Run index: 2\n",
      "Learning rate: 0.001\n",
      "  train:\n",
      "    started: 12/07/2020 06:53:27:483120\n",
      "    ended: 12/07/2020 06:55:02:177992\n",
      "    batches: 41\n",
      "    ave data points per batch: 197.2\n",
      "    converged/epochs: 69/70\n",
      "    ave/min loss: 114.80566/26.73229\n",
      "    accuracy: 0.682 (5515/8086)\n",
      "    micro: F1: 0.682, precision: 0.682, recall: 0.682\n",
      "    macro: F1: 0.682, precision: 0.682, recall: 0.682\n",
      "  validation:\n",
      "    batches: 6\n",
      "    ave data points per batch: 171.5\n",
      "    converged/epochs: 66/70\n",
      "    ave/min loss: 92.70416/12.40205\n",
      "    accuracy: 0.733 (754/1029)\n",
      "    micro: F1: 0.733, precision: 0.733, recall: 0.733\n",
      "    macro: F1: 0.731, precision: 0.741, recall: 0.733\n",
      "  test:\n",
      "    started: 12/07/2020 06:55:02:728880\n",
      "    ended: 12/07/2020 06:55:02:782973\n",
      "    batches: 11\n",
      "    ave data points per batch: 190.8\n",
      "    converged/epochs: 1/1\n",
      "    ave/min loss: 106.68747/45.11142\n",
      "    accuracy: 0.709 (1489/2099)\n",
      "    micro: F1: 0.709, precision: 0.709, recall: 0.709\n",
      "    macro: F1: 0.706, precision: 0.718, recall: 0.708\n"
     ]
    },
    {
     "data": {
      "text/plain": [
       "movie.model.ReviewNetwork (2)"
      ]
     },
     "execution_count": 5,
     "metadata": {},
     "output_type": "execute_result"
    },
    {
     "data": {
      "image/png": "[encoded data removed]",
      "text/plain": [
       "<Figure size 1080x360 with 1 Axes>"
      ]
     },
     "metadata": {
      "needs_background": "light"
     },
     "output_type": "display_data"
    }
   ],
   "source": [
    "facade.learning_rate = 0.001\n",
    "facade.epochs = 70\n",
    "facade.dropout = 0.3\n",
    "facade.train()\n",
    "facade.test()\n",
    "facade.write_result()\n",
    "facade.plot_result()"
   ]
  },
  {
   "cell_type": "code",
   "execution_count": 6,
   "metadata": {},
   "outputs": [
    {
     "name": "stderr",
     "output_type": "stream",
     "text": [
      "2020-12-07 06:55:03,053[INFO]zensols.deepnlp.embed.word2vec: reading binary vector file\n",
      "2020-12-07 06:55:03,054[INFO]zensols.deepnlp.embed.word2vec: loading keyed file: ../corpus/word2vec/GoogleNews-vectors-negative300.bin\n",
      "2020-12-07 06:56:58,456[INFO]zensols.deepnlp.embed.word2vec: loaded key model from /home/landes/view/nlp/deepnlp/example/movie/notebook/../corpus/word2vec/GoogleNews-vectors-negative300.bin in 1 minute, 55s\n",
      "2020-12-07 06:56:58,457[INFO]zensols.deepnlp.embed.word2vec: loaded word2vec model in 1 minute, 55s\n",
      "2020-12-07 06:57:10,460[INFO]zensols.deepnlp.embed.word2vec: created data structures in 12s\n",
      "2020-12-07 06:57:12,966[INFO]zensols.deepnlp.embed.domain: created tensor vectory matrix on use cuda: False, device: cpu\n",
      "2020-12-07 06:57:13,601[INFO]zensols.deeplearn.model.facade: clearing\n",
      "2020-12-07 06:57:14,205[INFO]zensols.deeplearn.model.facade: creating new executor\n",
      "2020-12-07 06:57:14,211[INFO]zensols.deepnlp.embed.domain: reusing already cached from use cuda: False, device: cpu\n",
      "2020-12-07 06:57:14,225[INFO]zensols.deeplearn.model.executor.status: resetting executor\n",
      "2020-12-07 06:57:14,225[INFO]zensols.deeplearn.model.facade: training...\n",
      "2020-12-07 06:57:14,252[INFO]zensols.deeplearn.model.executor.status: batch iteration: gpu, limit: 9223372036854775807, caching: True, cached: 0\n",
      "2020-12-07 06:57:19,292[INFO]zensols.deeplearn.model.executor.status: loaded 47 batches in 5s\n",
      "2020-12-07 06:57:19,293[INFO]zensols.deeplearn.model.executor.status: train/test sets: 41 6\n",
      "2020-12-07 06:57:19,296[INFO]zensols.deeplearn.model.executor.status: created model on cpu with use cuda: True, device: cuda:0\n",
      "2020-12-07 06:57:19,889[INFO]zensols.deeplearn.model.executor.status: training model <class 'movie.model.ReviewNetwork'> on cuda:0 for 60 epochs using learning rate 0.001\n",
      "  0%|                                                   | 0/60 [00:00<?, ?it/s]2020-12-07 06:57:19,891[INFO]zensols.deeplearn.model.executor.status: watching update file ../target/update.json\n",
      "tr:85.579|va min:84.426|va:86.781 /\\: 100%|████| 60/60 [01:11<00:00,  1.08it/s]2020-12-07 06:58:30,985[INFO]zensols.deeplearn.model.executor.status: epoch threshold reached at 60\n",
      "2020-12-07 06:58:30,986[INFO]zensols.deeplearn.model.executor.status: final minimum validation loss: 84.42555295924346, 32 decreases\n",
      "2020-12-07 06:58:31,197[INFO]zensols.deeplearn.model.executor.status: executed train in 1 minute, 11s\n",
      "2020-12-07 06:58:31,198[INFO]zensols.deeplearn.model.executor.status: deallocating 47 batches\n",
      "2020-12-07 06:58:31,202[INFO]zensols.deeplearn.model.facade: trained in 1 minute, 16s\n",
      "2020-12-07 06:58:31,202[INFO]zensols.deeplearn.model.executor.status: reloading model weights\n",
      "2020-12-07 06:58:32,737[INFO]zensols.deeplearn.model.executor.status: created model on cpu with use cuda: True, device: cuda:0\n",
      "tr:85.579|va min:84.426|va:86.781 /\\: 100%|████| 60/60 [01:12<00:00,  1.21s/it]\n",
      "2020-12-07 06:58:33,212[INFO]zensols.deeplearn.model.facade: testing...\n",
      "2020-12-07 06:58:33,213[INFO]zensols.deeplearn.model.executor.status: batch iteration: gpu, limit: 9223372036854775807, caching: True, cached: 1\n",
      "2020-12-07 06:58:34,226[INFO]zensols.deeplearn.model.executor.status: loaded 11 batches in 1s\n",
      "2020-12-07 06:58:34,226[INFO]zensols.deeplearn.model.executor.status: train/test sets: 11\n",
      "2020-12-07 06:58:35,016[INFO]zensols.deeplearn.model.executor.status: testing model <class 'movie.model.ReviewNetwork'> on cuda:0\n",
      "2020-12-07 06:58:35,071[INFO]zensols.deeplearn.model.executor.status: executed test in 0s\n",
      "2020-12-07 06:58:35,072[INFO]zensols.deeplearn.model.executor.status: deallocating 11 batches\n",
      "2020-12-07 06:58:35,073[INFO]zensols.deeplearn.model.facade: trained in 1s\n",
      "2020-12-07 06:58:35,074[INFO]zensols.deeplearn.model.facade: load previous results\n"
     ]
    },
    {
     "name": "stdout",
     "output_type": "stream",
     "text": [
      "Name: Review: 1\n",
      "Run index: 2\n",
      "Learning rate: 0.001\n",
      "  train:\n",
      "    started: 12/07/2020 06:57:19:892306\n",
      "    ended: 12/07/2020 06:58:30:986992\n",
      "    batches: 41\n",
      "    ave data points per batch: 197.2\n",
      "    converged/epochs: 59/60\n",
      "    ave/min loss: 84.70927/12.36827\n",
      "    accuracy: 0.796 (6438/8086)\n",
      "    micro: F1: 0.796, precision: 0.796, recall: 0.796\n",
      "    macro: F1: 0.796, precision: 0.797, recall: 0.796\n",
      "  validation:\n",
      "    batches: 6\n",
      "    ave data points per batch: 171.5\n",
      "    converged/epochs: 45/60\n",
      "    ave/min loss: 84.42555/9.85696\n",
      "    accuracy: 0.761 (783/1029)\n",
      "    micro: F1: 0.761, precision: 0.761, recall: 0.761\n",
      "    macro: F1: 0.760, precision: 0.764, recall: 0.761\n",
      "  test:\n",
      "    started: 12/07/2020 06:58:35:017113\n",
      "    ended: 12/07/2020 06:58:35:071778\n",
      "    batches: 11\n",
      "    ave data points per batch: 190.8\n",
      "    converged/epochs: 1/1\n",
      "    ave/min loss: 90.91064/37.50360\n",
      "    accuracy: 0.772 (1621/2099)\n",
      "    micro: F1: 0.772, precision: 0.772, recall: 0.772\n",
      "    macro: F1: 0.770, precision: 0.781, recall: 0.771\n"
     ]
    },
    {
     "data": {
      "image/png": "[encoded data removed]",
      "text/plain": [
       "<Figure size 1080x360 with 1 Axes>"
      ]
     },
     "metadata": {
      "needs_background": "light"
     },
     "output_type": "display_data"
    }
   ],
   "source": [
    "facade.epochs = 60\n",
    "facade.embedding = 'word2vec_300_embedding'\n",
    "facade.train()\n",
    "facade.test()\n",
    "facade.write_result()\n",
    "facade.plot_result()\n",
    "facade.persist_result()"
   ]
  },
  {
   "cell_type": "code",
   "execution_count": 7,
   "metadata": {},
   "outputs": [
    {
     "data": {
      "application/vnd.jupyter.widget-view+json": {
       "model_id": "f7a48a0563eb49ffba8f6fa4ef0810a6",
       "version_major": 2,
       "version_minor": 0
      },
      "text/plain": [
       "HBox(children=(FloatProgress(value=0.0, description='Downloading', max=898823.0, style=ProgressStyle(descripti…"
      ]
     },
     "metadata": {},
     "output_type": "display_data"
    },
    {
     "name": "stdout",
     "output_type": "stream",
     "text": [
      "\n"
     ]
    },
    {
     "data": {
      "application/vnd.jupyter.widget-view+json": {
       "model_id": "5962edf2317c498d8fa31b4b7f00b981",
       "version_major": 2,
       "version_minor": 0
      },
      "text/plain": [
       "HBox(children=(FloatProgress(value=0.0, description='Downloading', max=456318.0, style=ProgressStyle(descripti…"
      ]
     },
     "metadata": {},
     "output_type": "display_data"
    },
    {
     "name": "stdout",
     "output_type": "stream",
     "text": [
      "\n"
     ]
    },
    {
     "data": {
      "application/vnd.jupyter.widget-view+json": {
       "model_id": "d31ab713f70b45188ef5ecc523b7b358",
       "version_major": 2,
       "version_minor": 0
      },
      "text/plain": [
       "HBox(children=(FloatProgress(value=0.0, description='Downloading', max=481.0, style=ProgressStyle(description_…"
      ]
     },
     "metadata": {},
     "output_type": "display_data"
    },
    {
     "name": "stdout",
     "output_type": "stream",
     "text": [
      "\n"
     ]
    },
    {
     "data": {
      "application/vnd.jupyter.widget-view+json": {
       "model_id": "d2494c57558e4d52a470b2e5cacce864",
       "version_major": 2,
       "version_minor": 0
      },
      "text/plain": [
       "HBox(children=(FloatProgress(value=0.0, description='Downloading', max=501200538.0, style=ProgressStyle(descri…"
      ]
     },
     "metadata": {},
     "output_type": "display_data"
    },
    {
     "name": "stdout",
     "output_type": "stream",
     "text": [
      "\n"
     ]
    },
    {
     "name": "stderr",
     "output_type": "stream",
     "text": [
      "2020-12-07 06:58:58,506[INFO]zensols.deeplearn.model.facade: clearing\n",
      "2020-12-07 06:58:58,515[INFO]zensols.deeplearn.model.facade: creating new executor\n",
      "2020-12-07 06:58:58,547[INFO]zensols.deeplearn.model.executor.status: resetting executor\n",
      "2020-12-07 06:58:58,548[INFO]zensols.deeplearn.model.facade: training...\n",
      "2020-12-07 06:58:58,562[INFO]zensols.deeplearn.model.executor.status: batch iteration: gpu, limit: 9223372036854775807, caching: True, cached: 0\n",
      "2020-12-07 07:01:10,088[INFO]zensols.deeplearn.model.executor.status: loaded 47 batches in 2 minutes, 11s\n",
      "2020-12-07 07:01:10,090[INFO]zensols.deeplearn.model.executor.status: train/test sets: 41 6\n",
      "2020-12-07 07:01:10,094[INFO]zensols.deeplearn.model.executor.status: created model on cpu with use cuda: True, device: cuda:0\n",
      "2020-12-07 07:01:10,095[INFO]zensols.deeplearn.model.executor.status: training model <class 'movie.model.ReviewNetwork'> on cuda:0 for 100 epochs using learning rate 0.001\n",
      "  0%|                                                  | 0/100 [00:00<?, ?it/s]2020-12-07 07:01:10,098[INFO]zensols.deeplearn.model.executor.status: watching update file ../target/update.json\n",
      "tr:11.973|va min:67.190|va:292.328 /\\: 100%|█| 100/100 [01:50<00:00,  1.02it/s]2020-12-07 07:03:00,737[INFO]zensols.deeplearn.model.executor.status: epoch threshold reached at 100\n",
      "2020-12-07 07:03:00,738[INFO]zensols.deeplearn.model.executor.status: final minimum validation loss: 67.18977797528107, 32 decreases\n",
      "2020-12-07 07:03:01,025[INFO]zensols.deeplearn.model.executor.status: executed train in 1 minute, 50s\n",
      "2020-12-07 07:03:01,025[INFO]zensols.deeplearn.model.executor.status: deallocating 47 batches\n",
      "2020-12-07 07:03:01,029[INFO]zensols.deeplearn.model.facade: trained in 4 minutes, 2s\n",
      "2020-12-07 07:03:01,030[INFO]zensols.deeplearn.model.executor.status: reloading model weights\n",
      "2020-12-07 07:03:01,034[INFO]zensols.deeplearn.model.executor.status: created model on cpu with use cuda: True, device: cuda:0\n",
      "tr:11.973|va min:67.190|va:292.328 /\\: 100%|█| 100/100 [01:50<00:00,  1.11s/it]\n",
      "2020-12-07 07:03:01,358[INFO]zensols.deeplearn.model.facade: testing...\n",
      "2020-12-07 07:03:01,359[INFO]zensols.deeplearn.model.executor.status: batch iteration: gpu, limit: 9223372036854775807, caching: True, cached: 1\n",
      "2020-12-07 07:03:31,201[INFO]zensols.deeplearn.model.executor.status: loaded 11 batches in 29s\n",
      "2020-12-07 07:03:31,202[INFO]zensols.deeplearn.model.executor.status: train/test sets: 11\n",
      "2020-12-07 07:03:31,203[INFO]zensols.deeplearn.model.executor.status: testing model <class 'movie.model.ReviewNetwork'> on cuda:0\n",
      "2020-12-07 07:03:31,264[INFO]zensols.deeplearn.model.executor.status: executed test in 0s\n",
      "2020-12-07 07:03:31,264[INFO]zensols.deeplearn.model.executor.status: deallocating 11 batches\n",
      "2020-12-07 07:03:31,266[INFO]zensols.deeplearn.model.facade: trained in 29s\n",
      "2020-12-07 07:03:31,266[INFO]zensols.deeplearn.model.facade: load previous results\n"
     ]
    },
    {
     "name": "stdout",
     "output_type": "stream",
     "text": [
      "Name: Review: 1\n",
      "Run index: 2\n",
      "Learning rate: 0.001\n",
      "  train:\n",
      "    started: 12/07/2020 07:01:10:098740\n",
      "    ended: 12/07/2020 07:03:00:739170\n",
      "    batches: 41\n",
      "    ave data points per batch: 197.2\n",
      "    converged/epochs: 100/100\n",
      "    ave/min loss: 11.97289/6.95488\n",
      "    accuracy: 0.957 (7739/8086)\n",
      "    micro: F1: 0.957, precision: 0.957, recall: 0.957\n",
      "    macro: F1: 0.957, precision: 0.961, recall: 0.957\n",
      "  validation:\n",
      "    batches: 6\n",
      "    ave data points per batch: 171.5\n",
      "    converged/epochs: 34/100\n",
      "    ave/min loss: 67.18978/7.63751\n",
      "    accuracy: 0.821 (845/1029)\n",
      "    micro: F1: 0.821, precision: 0.821, recall: 0.821\n",
      "    macro: F1: 0.820, precision: 0.831, recall: 0.822\n",
      "  test:\n",
      "    started: 12/07/2020 07:03:31:204538\n",
      "    ended: 12/07/2020 07:03:31:264116\n",
      "    batches: 11\n",
      "    ave data points per batch: 190.8\n",
      "    converged/epochs: 1/1\n",
      "    ave/min loss: 80.20508/30.05085\n",
      "    accuracy: 0.814 (1708/2099)\n",
      "    micro: F1: 0.814, precision: 0.814, recall: 0.814\n",
      "    macro: F1: 0.811, precision: 0.830, recall: 0.812\n"
     ]
    },
    {
     "data": {
      "text/plain": [
       "movie.model.ReviewNetwork (2)"
      ]
     },
     "execution_count": 7,
     "metadata": {},
     "output_type": "execute_result"
    },
    {
     "data": {
      "image/png": "[encoded data removed]",
      "text/plain": [
       "<Figure size 1080x360 with 1 Axes>"
      ]
     },
     "metadata": {
      "needs_background": "light"
     },
     "output_type": "display_data"
    }
   ],
   "source": [
    "facade.epochs = 100\n",
    "facade.embedding = 'bert_embedding'\n",
    "facade.train()\n",
    "facade.test()\n",
    "facade.write_result()\n",
    "facade.plot_result()"
   ]
  }
 ],
 "metadata": {
  "kernelspec": {
   "display_name": "Python 3",
   "language": "python",
   "name": "python3"
  },
  "language_info": {
   "codemirror_mode": {
    "name": "ipython",
    "version": 3
   },
   "file_extension": ".py",
   "mimetype": "text/x-python",
   "name": "python",
   "nbconvert_exporter": "python",
   "pygments_lexer": "ipython3",
   "version": "3.7.4"
  }
 },
 "nbformat": 4,
 "nbformat_minor": 4
}
